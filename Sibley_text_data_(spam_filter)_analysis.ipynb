{
  "cells": [
    {
      "cell_type": "markdown",
      "metadata": {
        "id": "view-in-github",
        "colab_type": "text"
      },
      "source": [
        "<a href=\"https://colab.research.google.com/github/bsibley2/Machine-learning-projects/blob/main/Sibley_text_data_(spam_filter)_analysis.ipynb\" target=\"_parent\"><img src=\"https://colab.research.google.com/assets/colab-badge.svg\" alt=\"Open In Colab\"/></a>"
      ]
    },
    {
      "cell_type": "code",
      "execution_count": null,
      "id": "7d563e1d-8171-4ab4-bd62-338483c96f7d",
      "metadata": {
        "id": "7d563e1d-8171-4ab4-bd62-338483c96f7d"
      },
      "outputs": [],
      "source": [
        "# We begin by importing as many relevant libraries and classes and functions from these libraries as \n",
        "# it is possible to envision the need for up front. Various other items will be imported as needed.\n",
        "import pandas as pd\n",
        "import numpy as np\n",
        "import matplotlib.pyplot as plt\n",
        "import seaborn as sns\n",
        "from sklearn.ensemble import RandomForestClassifier \n",
        "from sklearn.metrics import classification_report\n",
        "from sklearn.metrics import confusion_matrix\n",
        "import re\n",
        "from sklearn.model_selection import train_test_split\n",
        "from sklearn.feature_extraction.text import CountVectorizer, ENGLISH_STOP_WORDS\n",
        "%matplotlib inline"
      ]
    },
    {
      "cell_type": "code",
      "execution_count": null,
      "id": "0eaac2ba-dc88-4566-ba47-e06cf35becbb",
      "metadata": {
        "id": "0eaac2ba-dc88-4566-ba47-e06cf35becbb"
      },
      "outputs": [],
      "source": [
        "# Before importing and looking at the data, we create a string containing all entries\n",
        "# which will be considered missing values in the data set.\n",
        "missing_values_string = [' ', '', '#N/A', '#N/A N/A', '#NA', '-1.#IND', '-1.#QNAN', '-NaN', '-nan', '1.#IND',\n",
        "                         '1.#QNAN', 'N/A', 'NA', 'NULL', 'NaN', 'n/a', 'nan', 'null']"
      ]
    },
    {
      "cell_type": "code",
      "execution_count": null,
      "id": "6ad49d36-4d61-4db0-ae30-e564d5dae52c",
      "metadata": {
        "id": "6ad49d36-4d61-4db0-ae30-e564d5dae52c",
        "outputId": "4f57856c-a117-4d66-e663-9b4f247375c5"
      },
      "outputs": [
        {
          "data": {
            "text/html": [
              "<div>\n",
              "<style scoped>\n",
              "    .dataframe tbody tr th:only-of-type {\n",
              "        vertical-align: middle;\n",
              "    }\n",
              "\n",
              "    .dataframe tbody tr th {\n",
              "        vertical-align: top;\n",
              "    }\n",
              "\n",
              "    .dataframe thead th {\n",
              "        text-align: right;\n",
              "    }\n",
              "</style>\n",
              "<table border=\"1\" class=\"dataframe\">\n",
              "  <thead>\n",
              "    <tr style=\"text-align: right;\">\n",
              "      <th></th>\n",
              "      <th>Type</th>\n",
              "      <th>Message</th>\n",
              "    </tr>\n",
              "  </thead>\n",
              "  <tbody>\n",
              "    <tr>\n",
              "      <th>0</th>\n",
              "      <td>ham</td>\n",
              "      <td>Go until jurong point, crazy.. Available only ...</td>\n",
              "    </tr>\n",
              "    <tr>\n",
              "      <th>1</th>\n",
              "      <td>ham</td>\n",
              "      <td>Ok lar... Joking wif u oni...</td>\n",
              "    </tr>\n",
              "    <tr>\n",
              "      <th>2</th>\n",
              "      <td>spam</td>\n",
              "      <td>Free entry in 2 a wkly comp to win FA Cup fina...</td>\n",
              "    </tr>\n",
              "    <tr>\n",
              "      <th>3</th>\n",
              "      <td>ham</td>\n",
              "      <td>U dun say so early hor... U c already then say...</td>\n",
              "    </tr>\n",
              "    <tr>\n",
              "      <th>4</th>\n",
              "      <td>ham</td>\n",
              "      <td>Nah I don't think he goes to usf, he lives aro...</td>\n",
              "    </tr>\n",
              "  </tbody>\n",
              "</table>\n",
              "</div>"
            ],
            "text/plain": [
              "   Type                                            Message\n",
              "0   ham  Go until jurong point, crazy.. Available only ...\n",
              "1   ham                      Ok lar... Joking wif u oni...\n",
              "2  spam  Free entry in 2 a wkly comp to win FA Cup fina...\n",
              "3   ham  U dun say so early hor... U c already then say...\n",
              "4   ham  Nah I don't think he goes to usf, he lives aro..."
            ]
          },
          "execution_count": 218,
          "metadata": {},
          "output_type": "execute_result"
        }
      ],
      "source": [
        "# We import the data set and have a look at the first five entries, labelling the \"ham/spam\"\n",
        "# designation as the \"Type\", and the message itself as \"Message\".\n",
        "data =df= pd.DataFrame(pd.read_csv('SMSSpamCollection.txt',delimiter=\"\\t\", na_values=missing_values_string, names= ['Type','Message']))\n",
        "data.head()"
      ]
    },
    {
      "cell_type": "code",
      "execution_count": null,
      "id": "2eb98edc-da1a-4e96-85b6-f3bad2da4e3e",
      "metadata": {
        "id": "2eb98edc-da1a-4e96-85b6-f3bad2da4e3e",
        "outputId": "fd791c69-52c9-409c-f075-908fa0ff7f48"
      },
      "outputs": [
        {
          "name": "stdout",
          "output_type": "stream",
          "text": [
            "<class 'pandas.core.frame.DataFrame'>\n",
            "RangeIndex: 5572 entries, 0 to 5571\n",
            "Data columns (total 2 columns):\n",
            " #   Column   Non-Null Count  Dtype \n",
            "---  ------   --------------  ----- \n",
            " 0   Type     5572 non-null   object\n",
            " 1   Message  5572 non-null   object\n",
            "dtypes: object(2)\n",
            "memory usage: 87.2+ KB\n"
          ]
        }
      ],
      "source": [
        "#We see how many entries there are and what the various data types are.\n",
        "data.info()"
      ]
    },
    {
      "cell_type": "code",
      "execution_count": null,
      "id": "dc0125a4-eeb0-4651-b271-da5fe0a81d39",
      "metadata": {
        "id": "dc0125a4-eeb0-4651-b271-da5fe0a81d39",
        "outputId": "1ec9f9fc-0fc5-4a15-bb02-411772bda9cd"
      },
      "outputs": [
        {
          "data": {
            "text/html": [
              "<div>\n",
              "<style scoped>\n",
              "    .dataframe tbody tr th:only-of-type {\n",
              "        vertical-align: middle;\n",
              "    }\n",
              "\n",
              "    .dataframe tbody tr th {\n",
              "        vertical-align: top;\n",
              "    }\n",
              "\n",
              "    .dataframe thead th {\n",
              "        text-align: right;\n",
              "    }\n",
              "</style>\n",
              "<table border=\"1\" class=\"dataframe\">\n",
              "  <thead>\n",
              "    <tr style=\"text-align: right;\">\n",
              "      <th></th>\n",
              "      <th>Type</th>\n",
              "      <th>Message</th>\n",
              "    </tr>\n",
              "  </thead>\n",
              "  <tbody>\n",
              "    <tr>\n",
              "      <th>5567</th>\n",
              "      <td>spam</td>\n",
              "      <td>This is the 2nd time we have tried 2 contact u...</td>\n",
              "    </tr>\n",
              "    <tr>\n",
              "      <th>5568</th>\n",
              "      <td>ham</td>\n",
              "      <td>Will ü b going to esplanade fr home?</td>\n",
              "    </tr>\n",
              "    <tr>\n",
              "      <th>5569</th>\n",
              "      <td>ham</td>\n",
              "      <td>Pity, * was in mood for that. So...any other s...</td>\n",
              "    </tr>\n",
              "    <tr>\n",
              "      <th>5570</th>\n",
              "      <td>ham</td>\n",
              "      <td>The guy did some bitching but I acted like i'd...</td>\n",
              "    </tr>\n",
              "    <tr>\n",
              "      <th>5571</th>\n",
              "      <td>ham</td>\n",
              "      <td>Rofl. Its true to its name</td>\n",
              "    </tr>\n",
              "  </tbody>\n",
              "</table>\n",
              "</div>"
            ],
            "text/plain": [
              "      Type                                            Message\n",
              "5567  spam  This is the 2nd time we have tried 2 contact u...\n",
              "5568   ham               Will ü b going to esplanade fr home?\n",
              "5569   ham  Pity, * was in mood for that. So...any other s...\n",
              "5570   ham  The guy did some bitching but I acted like i'd...\n",
              "5571   ham                         Rofl. Its true to its name"
            ]
          },
          "execution_count": 220,
          "metadata": {},
          "output_type": "execute_result"
        }
      ],
      "source": [
        "# We look at the last five entries.\n",
        "data.tail()"
      ]
    },
    {
      "cell_type": "code",
      "execution_count": null,
      "id": "11911225-a449-4bc4-a77b-596f6dc4458b",
      "metadata": {
        "id": "11911225-a449-4bc4-a77b-596f6dc4458b",
        "outputId": "1461aa35-206b-45f8-f580-46186e7feedf"
      },
      "outputs": [
        {
          "data": {
            "text/plain": [
              "5572"
            ]
          },
          "execution_count": 221,
          "metadata": {},
          "output_type": "execute_result"
        }
      ],
      "source": [
        "# Here we just confirm the number of messages.\n",
        "len(data)"
      ]
    },
    {
      "cell_type": "code",
      "execution_count": null,
      "id": "659b7f8d-c232-4671-af8a-093206ae6e3e",
      "metadata": {
        "id": "659b7f8d-c232-4671-af8a-093206ae6e3e",
        "outputId": "12d96af2-905e-4438-925a-a39c750075c6"
      },
      "outputs": [
        {
          "data": {
            "text/plain": [
              "0"
            ]
          },
          "execution_count": 222,
          "metadata": {},
          "output_type": "execute_result"
        }
      ],
      "source": [
        "# Here we see how many messages are marked as \"ham\".\n",
        "len(data.Type[data.Type==0])"
      ]
    },
    {
      "cell_type": "code",
      "execution_count": null,
      "id": "fc3ab3f4-99b1-4f24-98c8-3f581ca0ad93",
      "metadata": {
        "id": "fc3ab3f4-99b1-4f24-98c8-3f581ca0ad93",
        "outputId": "5758c717-1f0b-48fd-d7a7-0cb1414b8260"
      },
      "outputs": [
        {
          "data": {
            "text/plain": [
              "0"
            ]
          },
          "execution_count": 223,
          "metadata": {},
          "output_type": "execute_result"
        }
      ],
      "source": [
        "# Here we see how many messages are marked as \"\"spam\".\n",
        "len(data.Type[data.Type==1])"
      ]
    },
    {
      "cell_type": "code",
      "execution_count": null,
      "id": "1f18c4a0-9588-4704-9759-776da522fa24",
      "metadata": {
        "id": "1f18c4a0-9588-4704-9759-776da522fa24",
        "outputId": "e6e80b87-e21b-4563-a59f-c97d83020484"
      },
      "outputs": [
        {
          "data": {
            "text/plain": [
              "ham     4825\n",
              "spam     747\n",
              "Name: Type, dtype: int64"
            ]
          },
          "execution_count": 224,
          "metadata": {},
          "output_type": "execute_result"
        }
      ],
      "source": [
        "# We display the previous two values together. Clearly this data set is unbalanced.\n",
        "data.Type.value_counts()"
      ]
    },
    {
      "cell_type": "code",
      "execution_count": null,
      "id": "d604ebbc-9d64-474e-8705-acdce21c62eb",
      "metadata": {
        "id": "d604ebbc-9d64-474e-8705-acdce21c62eb",
        "outputId": "ae9e7a2b-906e-4799-b952-0b8166b49370"
      },
      "outputs": [
        {
          "data": {
            "image/png": "[encoded data removed]",
            "text/plain": [
              "<Figure size 432x288 with 1 Axes>"
            ]
          },
          "metadata": {},
          "output_type": "display_data"
        }
      ],
      "source": [
        "# We make a pie chart demonstrating this.\n",
        "data.Type.value_counts().plot(kind='pie');"
      ]
    },
    {
      "cell_type": "code",
      "execution_count": null,
      "id": "06fc5b9b-7f42-4ee1-bde7-835bad402978",
      "metadata": {
        "tags": [],
        "id": "06fc5b9b-7f42-4ee1-bde7-835bad402978",
        "outputId": "0192339d-b209-47e4-eb80-631e8dbd104f"
      },
      "outputs": [
        {
          "data": {
            "text/plain": [
              "to                       2145\n",
              "you                      1626\n",
              "I                        1469\n",
              "a                        1337\n",
              "the                      1207\n",
              "                         ... \n",
              "inlude                      1\n",
              "previews.                   1\n",
              "Ambrith..madurai..met       1\n",
              "arun                        1\n",
              "Rofl.                       1\n",
              "Length: 15691, dtype: int64"
            ]
          },
          "execution_count": 226,
          "metadata": {},
          "output_type": "execute_result"
        }
      ],
      "source": [
        "# We make a list giving all the frequencies of every word in the \n",
        "# union of all the documents ordered by decreasing frequency.\n",
        "word_frequency_list=df.Message.str.split(expand=True).stack().value_counts()\n",
        "word_frequency_list"
      ]
    },
    {
      "cell_type": "code",
      "execution_count": null,
      "id": "57ba4b31-343c-4222-bd3a-9b01085e6df1",
      "metadata": {
        "id": "57ba4b31-343c-4222-bd3a-9b01085e6df1",
        "outputId": "e7b4fbe1-1c2c-464f-99f2-6d19f625bea0"
      },
      "outputs": [
        {
          "data": {
            "text/plain": [
              "to               2145\n",
              "you              1626\n",
              "I                1469\n",
              "a                1337\n",
              "the              1207\n",
              "                 ... \n",
              "lib                 1\n",
              "Eatin               1\n",
              "Hmmm.but            1\n",
              "0871-872-9758       1\n",
              "Rofl.               1\n",
              "Length: 15691, dtype: int64"
            ]
          },
          "execution_count": 227,
          "metadata": {},
          "output_type": "execute_result"
        }
      ],
      "source": [
        "# We transform the above into a Pandas series. There's probably\n",
        "# some more elegant way to do all this in one step, but I'm failing to find it.\n",
        "word_freqs = pd.Series(word_frequency_list).sort_values(ascending=False)\n",
        "word_freqs"
      ]
    },
    {
      "cell_type": "code",
      "execution_count": null,
      "id": "9455b7ac-e1f2-4569-96df-8952c7fe5797",
      "metadata": {
        "id": "9455b7ac-e1f2-4569-96df-8952c7fe5797",
        "outputId": "f372e4f0-6941-40d8-f618-75654062d2ee"
      },
      "outputs": [
        {
          "data": {
            "image/png": "[encoded data removed]",
            "text/plain": [
              "<Figure size 432x288 with 1 Axes>"
            ]
          },
          "metadata": {
            "needs_background": "light"
          },
          "output_type": "display_data"
        }
      ],
      "source": [
        "# Here we display all the top frequencies that appear in a barplot.\n",
        "top_freqs= word_freqs.take([0,1,2,3,4,5,6,7,8,9,10])\n",
        "\n",
        "sns.barplot(x=top_freqs, y=top_freqs.index )\n",
        "\n",
        "# Add labels to your graph\n",
        "plt.xlabel('Word Frequency')\n",
        "plt.ylabel('Words')\n",
        "plt.title(\"Visualizing Most Frequent Words\")\n",
        "plt.show()"
      ]
    },
    {
      "cell_type": "code",
      "execution_count": null,
      "id": "0ad69eab-1210-423a-9d3d-9b3c4cde30c5",
      "metadata": {
        "id": "0ad69eab-1210-423a-9d3d-9b3c4cde30c5"
      },
      "outputs": [],
      "source": [
        "# Now that we've had a basic look at the data we're going to start working with, and so \n",
        "# we'll need to vecotorise it. Here we start with a basic preprocessing step of converting to \n",
        "# lower case and eliminating special characters.\n",
        "data.Message = data.Message.apply(lambda x: x.lower()) #lower cases\n",
        "data.Message = data.Message.apply((lambda x: re.sub('[^a-zA-Z0-9\\s]','',x))) "
      ]
    },
    {
      "cell_type": "code",
      "execution_count": null,
      "id": "98db4a13-b5d8-4415-89d8-461f98c8356f",
      "metadata": {
        "id": "98db4a13-b5d8-4415-89d8-461f98c8356f"
      },
      "outputs": [],
      "source": [
        "# We replace the different types with 0 and 1 respectively, so that the vecotorisor will be\n",
        "# able to read the data.\n",
        "df['Type']=df['Type'].replace('ham', 0)\n",
        "df['Type']=df['Type'].replace('spam', 1)"
      ]
    },
    {
      "cell_type": "code",
      "execution_count": null,
      "id": "82889e2d-1436-488a-b7ae-78afba14d847",
      "metadata": {
        "id": "82889e2d-1436-488a-b7ae-78afba14d847"
      },
      "outputs": [],
      "source": [
        "# We prepare to break our data set up into a train and test set.\n",
        "text = data.Message\n",
        "label = data.Type"
      ]
    },
    {
      "cell_type": "code",
      "execution_count": null,
      "id": "2a50ff9a-0081-4b1f-a851-a09b22023987",
      "metadata": {
        "id": "2a50ff9a-0081-4b1f-a851-a09b22023987"
      },
      "outputs": [],
      "source": [
        "# Here we execute the train-test split of the data.\n",
        "text_train, text_test, y_train, y_test = train_test_split(text, label, test_size=0.3, random_state=0, shuffle=True, stratify=label)"
      ]
    },
    {
      "cell_type": "code",
      "execution_count": null,
      "id": "59310534-3b8f-4ecf-825a-9c4375df195a",
      "metadata": {
        "id": "59310534-3b8f-4ecf-825a-9c4375df195a"
      },
      "outputs": [],
      "source": [
        "# We import the vectoriser. We will begin by creating a bag of words, so we use CountVectorzer, the most basic vectoriser,\n",
        "# which just counts and doesn't perform any normalisation. Later we will use Tfidf, we includes normalisation.\n",
        "from sklearn.feature_extraction.text import CountVectorizer\n",
        "# Instantiate the CountVectorizer method\n",
        "count_vector = CountVectorizer(lowercase = True)"
      ]
    },
    {
      "cell_type": "code",
      "execution_count": null,
      "id": "7fc7690a-f46e-425b-a392-13890429422c",
      "metadata": {
        "id": "7fc7690a-f46e-425b-a392-13890429422c"
      },
      "outputs": [],
      "source": [
        "# Here we fit the training data and then return the matrix\n",
        "X_train = count_vector.fit_transform(text_train) \n",
        "# Here we transform testing data and return the matrix. \n",
        "#An important point here is that we don't fit the testing data into the CountVectorizer()\n",
        "X_test = count_vector.transform(text_test)\n",
        "X_train_feature_list = count_vector.get_feature_names()"
      ]
    },
    {
      "cell_type": "code",
      "execution_count": null,
      "id": "933cd681-3fe9-42bc-bf84-249f6f35f8af",
      "metadata": {
        "id": "933cd681-3fe9-42bc-bf84-249f6f35f8af"
      },
      "outputs": [],
      "source": [
        "# Here we create a pandas data frame containing the vectorised data set.\n",
        "df_vect = pd.DataFrame(data = X_train.toarray(), columns = X_train_feature_list)"
      ]
    },
    {
      "cell_type": "code",
      "execution_count": null,
      "id": "b1e2d9b3-95f0-41de-bb19-142d25bf7d0e",
      "metadata": {
        "id": "b1e2d9b3-95f0-41de-bb19-142d25bf7d0e",
        "outputId": "ecb69493-d7e7-41ad-935b-fe5e64d6ccfa"
      },
      "outputs": [
        {
          "data": {
            "text/html": [
              "<div>\n",
              "<style scoped>\n",
              "    .dataframe tbody tr th:only-of-type {\n",
              "        vertical-align: middle;\n",
              "    }\n",
              "\n",
              "    .dataframe tbody tr th {\n",
              "        vertical-align: top;\n",
              "    }\n",
              "\n",
              "    .dataframe thead th {\n",
              "        text-align: right;\n",
              "    }\n",
              "</style>\n",
              "<table border=\"1\" class=\"dataframe\">\n",
              "  <thead>\n",
              "    <tr style=\"text-align: right;\">\n",
              "      <th></th>\n",
              "      <th>008704050406</th>\n",
              "      <th>0089my</th>\n",
              "      <th>0121</th>\n",
              "      <th>01223585236</th>\n",
              "      <th>01223585334</th>\n",
              "      <th>0125698789</th>\n",
              "      <th>02</th>\n",
              "      <th>020603</th>\n",
              "      <th>0207</th>\n",
              "      <th>02070836089</th>\n",
              "      <th>...</th>\n",
              "      <th>zac</th>\n",
              "      <th>zahers</th>\n",
              "      <th>zealand</th>\n",
              "      <th>zed</th>\n",
              "      <th>zeros</th>\n",
              "      <th>zindgi</th>\n",
              "      <th>zoe</th>\n",
              "      <th>zogtorius</th>\n",
              "      <th>zouk</th>\n",
              "      <th>zyada</th>\n",
              "    </tr>\n",
              "  </thead>\n",
              "  <tbody>\n",
              "    <tr>\n",
              "      <th>0</th>\n",
              "      <td>0</td>\n",
              "      <td>0</td>\n",
              "      <td>0</td>\n",
              "      <td>0</td>\n",
              "      <td>0</td>\n",
              "      <td>0</td>\n",
              "      <td>0</td>\n",
              "      <td>0</td>\n",
              "      <td>0</td>\n",
              "      <td>0</td>\n",
              "      <td>...</td>\n",
              "      <td>0</td>\n",
              "      <td>0</td>\n",
              "      <td>0</td>\n",
              "      <td>0</td>\n",
              "      <td>0</td>\n",
              "      <td>0</td>\n",
              "      <td>0</td>\n",
              "      <td>0</td>\n",
              "      <td>0</td>\n",
              "      <td>0</td>\n",
              "    </tr>\n",
              "    <tr>\n",
              "      <th>1</th>\n",
              "      <td>0</td>\n",
              "      <td>0</td>\n",
              "      <td>0</td>\n",
              "      <td>0</td>\n",
              "      <td>0</td>\n",
              "      <td>0</td>\n",
              "      <td>0</td>\n",
              "      <td>0</td>\n",
              "      <td>0</td>\n",
              "      <td>0</td>\n",
              "      <td>...</td>\n",
              "      <td>0</td>\n",
              "      <td>0</td>\n",
              "      <td>0</td>\n",
              "      <td>0</td>\n",
              "      <td>0</td>\n",
              "      <td>0</td>\n",
              "      <td>0</td>\n",
              "      <td>0</td>\n",
              "      <td>0</td>\n",
              "      <td>0</td>\n",
              "    </tr>\n",
              "    <tr>\n",
              "      <th>2</th>\n",
              "      <td>0</td>\n",
              "      <td>0</td>\n",
              "      <td>0</td>\n",
              "      <td>0</td>\n",
              "      <td>0</td>\n",
              "      <td>0</td>\n",
              "      <td>0</td>\n",
              "      <td>0</td>\n",
              "      <td>0</td>\n",
              "      <td>0</td>\n",
              "      <td>...</td>\n",
              "      <td>0</td>\n",
              "      <td>0</td>\n",
              "      <td>0</td>\n",
              "      <td>0</td>\n",
              "      <td>0</td>\n",
              "      <td>0</td>\n",
              "      <td>0</td>\n",
              "      <td>0</td>\n",
              "      <td>0</td>\n",
              "      <td>0</td>\n",
              "    </tr>\n",
              "    <tr>\n",
              "      <th>3</th>\n",
              "      <td>0</td>\n",
              "      <td>0</td>\n",
              "      <td>0</td>\n",
              "      <td>0</td>\n",
              "      <td>0</td>\n",
              "      <td>0</td>\n",
              "      <td>0</td>\n",
              "      <td>0</td>\n",
              "      <td>0</td>\n",
              "      <td>0</td>\n",
              "      <td>...</td>\n",
              "      <td>0</td>\n",
              "      <td>0</td>\n",
              "      <td>0</td>\n",
              "      <td>0</td>\n",
              "      <td>0</td>\n",
              "      <td>0</td>\n",
              "      <td>0</td>\n",
              "      <td>0</td>\n",
              "      <td>0</td>\n",
              "      <td>0</td>\n",
              "    </tr>\n",
              "    <tr>\n",
              "      <th>4</th>\n",
              "      <td>0</td>\n",
              "      <td>0</td>\n",
              "      <td>0</td>\n",
              "      <td>0</td>\n",
              "      <td>0</td>\n",
              "      <td>0</td>\n",
              "      <td>0</td>\n",
              "      <td>0</td>\n",
              "      <td>0</td>\n",
              "      <td>0</td>\n",
              "      <td>...</td>\n",
              "      <td>0</td>\n",
              "      <td>0</td>\n",
              "      <td>0</td>\n",
              "      <td>0</td>\n",
              "      <td>0</td>\n",
              "      <td>0</td>\n",
              "      <td>0</td>\n",
              "      <td>0</td>\n",
              "      <td>0</td>\n",
              "      <td>0</td>\n",
              "    </tr>\n",
              "    <tr>\n",
              "      <th>...</th>\n",
              "      <td>...</td>\n",
              "      <td>...</td>\n",
              "      <td>...</td>\n",
              "      <td>...</td>\n",
              "      <td>...</td>\n",
              "      <td>...</td>\n",
              "      <td>...</td>\n",
              "      <td>...</td>\n",
              "      <td>...</td>\n",
              "      <td>...</td>\n",
              "      <td>...</td>\n",
              "      <td>...</td>\n",
              "      <td>...</td>\n",
              "      <td>...</td>\n",
              "      <td>...</td>\n",
              "      <td>...</td>\n",
              "      <td>...</td>\n",
              "      <td>...</td>\n",
              "      <td>...</td>\n",
              "      <td>...</td>\n",
              "      <td>...</td>\n",
              "    </tr>\n",
              "    <tr>\n",
              "      <th>3895</th>\n",
              "      <td>0</td>\n",
              "      <td>0</td>\n",
              "      <td>0</td>\n",
              "      <td>0</td>\n",
              "      <td>0</td>\n",
              "      <td>0</td>\n",
              "      <td>0</td>\n",
              "      <td>0</td>\n",
              "      <td>0</td>\n",
              "      <td>0</td>\n",
              "      <td>...</td>\n",
              "      <td>0</td>\n",
              "      <td>0</td>\n",
              "      <td>0</td>\n",
              "      <td>0</td>\n",
              "      <td>0</td>\n",
              "      <td>0</td>\n",
              "      <td>0</td>\n",
              "      <td>0</td>\n",
              "      <td>0</td>\n",
              "      <td>0</td>\n",
              "    </tr>\n",
              "    <tr>\n",
              "      <th>3896</th>\n",
              "      <td>0</td>\n",
              "      <td>0</td>\n",
              "      <td>0</td>\n",
              "      <td>0</td>\n",
              "      <td>0</td>\n",
              "      <td>0</td>\n",
              "      <td>0</td>\n",
              "      <td>0</td>\n",
              "      <td>0</td>\n",
              "      <td>0</td>\n",
              "      <td>...</td>\n",
              "      <td>0</td>\n",
              "      <td>0</td>\n",
              "      <td>0</td>\n",
              "      <td>0</td>\n",
              "      <td>0</td>\n",
              "      <td>0</td>\n",
              "      <td>0</td>\n",
              "      <td>0</td>\n",
              "      <td>0</td>\n",
              "      <td>0</td>\n",
              "    </tr>\n",
              "    <tr>\n",
              "      <th>3897</th>\n",
              "      <td>0</td>\n",
              "      <td>0</td>\n",
              "      <td>0</td>\n",
              "      <td>0</td>\n",
              "      <td>0</td>\n",
              "      <td>0</td>\n",
              "      <td>0</td>\n",
              "      <td>0</td>\n",
              "      <td>0</td>\n",
              "      <td>0</td>\n",
              "      <td>...</td>\n",
              "      <td>0</td>\n",
              "      <td>0</td>\n",
              "      <td>0</td>\n",
              "      <td>0</td>\n",
              "      <td>0</td>\n",
              "      <td>0</td>\n",
              "      <td>0</td>\n",
              "      <td>0</td>\n",
              "      <td>0</td>\n",
              "      <td>0</td>\n",
              "    </tr>\n",
              "    <tr>\n",
              "      <th>3898</th>\n",
              "      <td>0</td>\n",
              "      <td>0</td>\n",
              "      <td>0</td>\n",
              "      <td>0</td>\n",
              "      <td>0</td>\n",
              "      <td>0</td>\n",
              "      <td>0</td>\n",
              "      <td>0</td>\n",
              "      <td>0</td>\n",
              "      <td>0</td>\n",
              "      <td>...</td>\n",
              "      <td>0</td>\n",
              "      <td>0</td>\n",
              "      <td>0</td>\n",
              "      <td>0</td>\n",
              "      <td>0</td>\n",
              "      <td>0</td>\n",
              "      <td>0</td>\n",
              "      <td>0</td>\n",
              "      <td>0</td>\n",
              "      <td>0</td>\n",
              "    </tr>\n",
              "    <tr>\n",
              "      <th>3899</th>\n",
              "      <td>0</td>\n",
              "      <td>0</td>\n",
              "      <td>0</td>\n",
              "      <td>0</td>\n",
              "      <td>0</td>\n",
              "      <td>0</td>\n",
              "      <td>0</td>\n",
              "      <td>0</td>\n",
              "      <td>0</td>\n",
              "      <td>0</td>\n",
              "      <td>...</td>\n",
              "      <td>0</td>\n",
              "      <td>0</td>\n",
              "      <td>0</td>\n",
              "      <td>0</td>\n",
              "      <td>0</td>\n",
              "      <td>0</td>\n",
              "      <td>0</td>\n",
              "      <td>0</td>\n",
              "      <td>0</td>\n",
              "      <td>0</td>\n",
              "    </tr>\n",
              "  </tbody>\n",
              "</table>\n",
              "<p>3900 rows × 7718 columns</p>\n",
              "</div>"
            ],
            "text/plain": [
              "      008704050406  0089my  0121  01223585236  01223585334  0125698789  02  \\\n",
              "0                0       0     0            0            0           0   0   \n",
              "1                0       0     0            0            0           0   0   \n",
              "2                0       0     0            0            0           0   0   \n",
              "3                0       0     0            0            0           0   0   \n",
              "4                0       0     0            0            0           0   0   \n",
              "...            ...     ...   ...          ...          ...         ...  ..   \n",
              "3895             0       0     0            0            0           0   0   \n",
              "3896             0       0     0            0            0           0   0   \n",
              "3897             0       0     0            0            0           0   0   \n",
              "3898             0       0     0            0            0           0   0   \n",
              "3899             0       0     0            0            0           0   0   \n",
              "\n",
              "      020603  0207  02070836089  ...  zac  zahers  zealand  zed  zeros  \\\n",
              "0          0     0            0  ...    0       0        0    0      0   \n",
              "1          0     0            0  ...    0       0        0    0      0   \n",
              "2          0     0            0  ...    0       0        0    0      0   \n",
              "3          0     0            0  ...    0       0        0    0      0   \n",
              "4          0     0            0  ...    0       0        0    0      0   \n",
              "...      ...   ...          ...  ...  ...     ...      ...  ...    ...   \n",
              "3895       0     0            0  ...    0       0        0    0      0   \n",
              "3896       0     0            0  ...    0       0        0    0      0   \n",
              "3897       0     0            0  ...    0       0        0    0      0   \n",
              "3898       0     0            0  ...    0       0        0    0      0   \n",
              "3899       0     0            0  ...    0       0        0    0      0   \n",
              "\n",
              "      zindgi  zoe  zogtorius  zouk  zyada  \n",
              "0          0    0          0     0      0  \n",
              "1          0    0          0     0      0  \n",
              "2          0    0          0     0      0  \n",
              "3          0    0          0     0      0  \n",
              "4          0    0          0     0      0  \n",
              "...      ...  ...        ...   ...    ...  \n",
              "3895       0    0          0     0      0  \n",
              "3896       0    0          0     0      0  \n",
              "3897       0    0          0     0      0  \n",
              "3898       0    0          0     0      0  \n",
              "3899       0    0          0     0      0  \n",
              "\n",
              "[3900 rows x 7718 columns]"
            ]
          },
          "execution_count": 24,
          "metadata": {},
          "output_type": "execute_result"
        }
      ],
      "source": [
        "# Here we display this data frame.\n",
        "df_vect"
      ]
    },
    {
      "cell_type": "code",
      "execution_count": null,
      "id": "81ba9fba-232b-4c92-be5a-a91f91e28edb",
      "metadata": {
        "id": "81ba9fba-232b-4c92-be5a-a91f91e28edb",
        "outputId": "76288077-af23-4112-9f5b-dcb5eb93be89"
      },
      "outputs": [
        {
          "name": "stdout",
          "output_type": "stream",
          "text": [
            "were       stop          0.000003\n",
            "stop       were          0.000003\n",
            "times      go            0.000004\n",
            "go         times         0.000004\n",
            "           id            0.000004\n",
            "                           ...   \n",
            "waves      footprints    1.000000\n",
            "clearing   footprints    1.000000\n",
            "crab       clearing      1.000000\n",
            "frndsship  footprints    1.000000\n",
            "waves      crab          1.000000\n",
            "Length: 54804409, dtype: float64\n"
          ]
        }
      ],
      "source": [
        "# Here we create the correlation matrix for different words and display the different correlations. We see that\n",
        "# certain words have a correlation of 1, but most words are barely correlated at all.\n",
        "c = df_vect.corr().abs()\n",
        "s = c.unstack()\n",
        "so = s.sort_values(kind=\"quicksort\")\n",
        "print(so)"
      ]
    },
    {
      "cell_type": "code",
      "execution_count": null,
      "id": "607fc000-f1d5-4173-933b-ae9678eef2e1",
      "metadata": {
        "id": "607fc000-f1d5-4173-933b-ae9678eef2e1",
        "outputId": "f016ab84-fbe1-444f-dc89-bcc8851cfcd7"
      },
      "outputs": [
        {
          "name": "stdout",
          "output_type": "stream",
          "text": [
            "footprints  dwn           1.0\n",
            "crab        fox           1.0\n",
            "footprints  clearing      1.0\n",
            "frndsship   crab          1.0\n",
            "crab        dwn           1.0\n",
            "waves       footprints    1.0\n",
            "clearing    footprints    1.0\n",
            "crab        clearing      1.0\n",
            "frndsship   footprints    1.0\n",
            "waves       crab          1.0\n",
            "dtype: float64\n"
          ]
        }
      ],
      "source": [
        "print(so[54804399:54804409])"
      ]
    },
    {
      "cell_type": "code",
      "execution_count": null,
      "id": "f8cc474c-479f-4210-b42d-ec59c92fee51",
      "metadata": {
        "id": "f8cc474c-479f-4210-b42d-ec59c92fee51",
        "outputId": "e0c3116c-bec5-468a-b529-794897968bc5"
      },
      "outputs": [
        {
          "data": {
            "text/plain": [
              "<AxesSubplot:>"
            ]
          },
          "execution_count": 16,
          "metadata": {},
          "output_type": "execute_result"
        },
        {
          "data": {
            "image/png": "[encoded data removed]",
            "text/plain": [
              "<Figure size 432x288 with 2 Axes>"
            ]
          },
          "metadata": {
            "needs_background": "light"
          },
          "output_type": "display_data"
        }
      ],
      "source": [
        "# We give a heatmap plot of the above.\n",
        "sns.heatmap(data=c, cmap='Reds')"
      ]
    },
    {
      "cell_type": "code",
      "execution_count": null,
      "id": "e8e630ad-18a4-45b6-8104-5f77e10d0129",
      "metadata": {
        "id": "e8e630ad-18a4-45b6-8104-5f77e10d0129"
      },
      "outputs": [],
      "source": [
        "# We import the tree library.\n",
        "from sklearn import tree"
      ]
    },
    {
      "cell_type": "code",
      "execution_count": null,
      "id": "80b774ce-e175-4faf-80f0-b586aeb77932",
      "metadata": {
        "id": "80b774ce-e175-4faf-80f0-b586aeb77932"
      },
      "outputs": [],
      "source": [
        "# We will use a Decision tree classifier to do the modelling, so we create a variable containing this.\n",
        "DT= tree.DecisionTreeClassifier(random_state=0)"
      ]
    },
    {
      "cell_type": "code",
      "execution_count": null,
      "id": "3d1b6432-e12c-4e6d-a16d-e8c442ae9a32",
      "metadata": {
        "id": "3d1b6432-e12c-4e6d-a16d-e8c442ae9a32"
      },
      "outputs": [],
      "source": [
        "# We fit the model on the training set. \n",
        "DT_model=DT.fit(X_train,y_train)"
      ]
    },
    {
      "cell_type": "code",
      "execution_count": null,
      "id": "c8b91a4e-820f-46d3-8942-2050d34afc5e",
      "metadata": {
        "id": "c8b91a4e-820f-46d3-8942-2050d34afc5e"
      },
      "outputs": [],
      "source": [
        "# We find the predictions of the model on the test set. \n",
        "y_test_pred = DT.predict(X_test)"
      ]
    },
    {
      "cell_type": "code",
      "execution_count": null,
      "id": "5f3c095b-39ac-43f0-97e4-78e37c03612d",
      "metadata": {
        "id": "5f3c095b-39ac-43f0-97e4-78e37c03612d"
      },
      "outputs": [],
      "source": [
        "# We create a list of the most important features.\n",
        "feature_importance_list = sorted(zip(DT.feature_importances_, X_train_feature_list), reverse=True)"
      ]
    },
    {
      "cell_type": "code",
      "execution_count": null,
      "id": "69c35cf0-f652-4637-b1a3-eb42a4a574cf",
      "metadata": {
        "id": "69c35cf0-f652-4637-b1a3-eb42a4a574cf",
        "outputId": "3431ca93-2d54-4d2c-ff25-d98161141e31"
      },
      "outputs": [
        {
          "data": {
            "text/plain": [
              "[(0.202387674249589, 'call'),\n",
              " (0.165099683622548, 'txt'),\n",
              " (0.06139710968874531, 'me'),\n",
              " (0.036273842015515506, 'free'),\n",
              " (0.03551498745243439, 'ill'),\n",
              " (0.024120459790081653, 'claim'),\n",
              " (0.021734917264765577, 'reply'),\n",
              " (0.0205288955369099, '86688'),\n",
              " (0.016847750205268165, 'im'),\n",
              " (0.016595309996272574, 'user')]"
            ]
          },
          "execution_count": 194,
          "metadata": {},
          "output_type": "execute_result"
        }
      ],
      "source": [
        "# We display the top 10 features\n",
        "feature_importance_list[:10]"
      ]
    },
    {
      "cell_type": "code",
      "execution_count": null,
      "id": "e5e15189-8a4e-4d2d-af87-96aef6fb6be0",
      "metadata": {
        "id": "e5e15189-8a4e-4d2d-af87-96aef6fb6be0",
        "outputId": "e39ebf16-3d4c-441e-e8be-49ffa17c3954"
      },
      "outputs": [
        {
          "data": {
            "text/plain": [
              "[(0.0, '02070836089'),\n",
              " (0.0, '0207'),\n",
              " (0.0, '020603'),\n",
              " (0.0, '02'),\n",
              " (0.0, '0125698789'),\n",
              " (0.0, '01223585334'),\n",
              " (0.0, '01223585236'),\n",
              " (0.0, '0121'),\n",
              " (0.0, '0089my'),\n",
              " (0.0, '008704050406')]"
            ]
          },
          "execution_count": 195,
          "metadata": {},
          "output_type": "execute_result"
        }
      ],
      "source": [
        "# We display the worst 10 features\n",
        "feature_importance_list[-10:]"
      ]
    },
    {
      "cell_type": "code",
      "execution_count": null,
      "id": "c3cbe597-f999-48d2-9b1d-b28539d8e360",
      "metadata": {
        "id": "c3cbe597-f999-48d2-9b1d-b28539d8e360"
      },
      "outputs": [],
      "source": [
        "# We will create a Pandas series to visualize whichever features we want.\n",
        "feature_imp = pd.Series(DT.feature_importances_, index = X_train_feature_list).sort_values(ascending=False)\n",
        "\n",
        "top_feature = feature_imp.take([0,1,2,3,4,5,6,7,8,9,10])\n",
        "worst_features = feature_imp.take([-10,-9,-8,-7,-6,-5,-4,-3,-2,-1])"
      ]
    },
    {
      "cell_type": "code",
      "execution_count": null,
      "id": "ccc1c785-a419-448f-8727-b8688e1c3ef2",
      "metadata": {
        "id": "ccc1c785-a419-448f-8727-b8688e1c3ef2",
        "outputId": "86b53c96-14b8-4090-907f-d5f49b9b6436"
      },
      "outputs": [
        {
          "data": {
            "image/png": "[encoded data removed]",
            "text/plain": [
              "<Figure size 432x288 with 1 Axes>"
            ]
          },
          "metadata": {
            "needs_background": "light"
          },
          "output_type": "display_data"
        }
      ],
      "source": [
        "# We display this information in a barplot\n",
        "sns.barplot(x=top_feature, y=top_feature.index )\n",
        "\n",
        "# These are the graph labels.\n",
        "plt.xlabel('Feature Importance Score')\n",
        "plt.ylabel('Features')\n",
        "plt.title(\"Visualizing Important Features\")\n",
        "plt.show()"
      ]
    },
    {
      "cell_type": "code",
      "execution_count": null,
      "id": "ee78ef10-b301-4001-8f0e-003024ab03e0",
      "metadata": {
        "id": "ee78ef10-b301-4001-8f0e-003024ab03e0",
        "outputId": "e9f811f6-9358-4588-d8d8-526ed383e407"
      },
      "outputs": [
        {
          "data": {
            "image/png": "[encoded data removed]",
            "text/plain": [
              "<Figure size 432x288 with 1 Axes>"
            ]
          },
          "metadata": {
            "needs_background": "light"
          },
          "output_type": "display_data"
        }
      ],
      "source": [
        "# Same as the above.\n",
        "sns.barplot(x=worst_features, y=worst_features.index )\n",
        "\n",
        "plt.xlabel('Feature Importance Score')\n",
        "plt.ylabel('Features')\n",
        "plt.title(\"Visualizing Unimportant Features\")\n",
        "plt.show()"
      ]
    },
    {
      "cell_type": "code",
      "execution_count": null,
      "id": "fb840d29-1577-4b5f-aabe-f0273675d646",
      "metadata": {
        "id": "fb840d29-1577-4b5f-aabe-f0273675d646",
        "outputId": "3618bfd6-94dc-4fef-855c-f60766fb5899"
      },
      "outputs": [
        {
          "name": "stdout",
          "output_type": "stream",
          "text": [
            "              precision    recall  f1-score   support\n",
            "\n",
            "           0       0.97      0.99      0.98      1448\n",
            "           1       0.93      0.79      0.85       224\n",
            "\n",
            "    accuracy                           0.96      1672\n",
            "   macro avg       0.95      0.89      0.92      1672\n",
            "weighted avg       0.96      0.96      0.96      1672\n",
            "\n"
          ]
        }
      ],
      "source": [
        "# To get a feel for how accurate our results are, we\n",
        "# print the classification report measuring the predicted\n",
        "# versus the actual values\n",
        "print(classification_report(y_test, y_test_pred))"
      ]
    },
    {
      "cell_type": "code",
      "execution_count": null,
      "id": "c44d371d-d738-421c-adbe-a60c35930a08",
      "metadata": {
        "id": "c44d371d-d738-421c-adbe-a60c35930a08",
        "outputId": "6a6b0a41-4594-4357-eb8a-fbc88cff9ae8"
      },
      "outputs": [
        {
          "data": {
            "text/plain": [
              "<function matplotlib.pyplot.show(close=None, block=None)>"
            ]
          },
          "execution_count": 197,
          "metadata": {},
          "output_type": "execute_result"
        },
        {
          "data": {
            "image/png": "[encoded data removed]",
            "text/plain": [
              "<Figure size 432x288 with 2 Axes>"
            ]
          },
          "metadata": {
            "needs_background": "light"
          },
          "output_type": "display_data"
        }
      ],
      "source": [
        "# The above information is displayed in the confusion matrix,\n",
        "# which we ceate and plot here.\n",
        "cf_matrix = confusion_matrix(y_test, y_test_pred)\n",
        "\n",
        "sns.heatmap(cf_matrix, annot=True, fmt='d', cmap='Blues')\n",
        "plt.xlabel('Predicted')\n",
        "plt.ylabel('True')\n",
        "plt.show"
      ]
    },
    {
      "cell_type": "code",
      "execution_count": null,
      "id": "2e3170b6-b5d5-4fe7-8121-513cb6331156",
      "metadata": {
        "id": "2e3170b6-b5d5-4fe7-8121-513cb6331156"
      },
      "outputs": [],
      "source": [
        "# We will now run through the entire process again, but taking care to exclude stop words\n",
        "# and also penalising words that show up to often or too infrequently.\n",
        "count_vector2 = CountVectorizer(lowercase = True, max_df=0.75, min_df=10, max_features=20000, stop_words = \"english\")"
      ]
    },
    {
      "cell_type": "code",
      "execution_count": null,
      "id": "278fcf4e-1e04-4005-b4d6-10a1e940eab8",
      "metadata": {
        "id": "278fcf4e-1e04-4005-b4d6-10a1e940eab8",
        "outputId": "32357e91-721b-4ce3-e05a-f0bac47a9746"
      },
      "outputs": [
        {
          "data": {
            "text/html": [
              "<div>\n",
              "<style scoped>\n",
              "    .dataframe tbody tr th:only-of-type {\n",
              "        vertical-align: middle;\n",
              "    }\n",
              "\n",
              "    .dataframe tbody tr th {\n",
              "        vertical-align: top;\n",
              "    }\n",
              "\n",
              "    .dataframe thead th {\n",
              "        text-align: right;\n",
              "    }\n",
              "</style>\n",
              "<table border=\"1\" class=\"dataframe\">\n",
              "  <thead>\n",
              "    <tr style=\"text-align: right;\">\n",
              "      <th></th>\n",
              "      <th>08000839402</th>\n",
              "      <th>08000930705</th>\n",
              "      <th>10</th>\n",
              "      <th>100</th>\n",
              "      <th>1000</th>\n",
              "      <th>12</th>\n",
              "      <th>12hrs</th>\n",
              "      <th>150</th>\n",
              "      <th>150p</th>\n",
              "      <th>150pmsg</th>\n",
              "      <th>...</th>\n",
              "      <th>year</th>\n",
              "      <th>years</th>\n",
              "      <th>yes</th>\n",
              "      <th>yesterday</th>\n",
              "      <th>yo</th>\n",
              "      <th>youll</th>\n",
              "      <th>youre</th>\n",
              "      <th>youve</th>\n",
              "      <th>yr</th>\n",
              "      <th>yup</th>\n",
              "    </tr>\n",
              "  </thead>\n",
              "  <tbody>\n",
              "    <tr>\n",
              "      <th>0</th>\n",
              "      <td>0</td>\n",
              "      <td>0</td>\n",
              "      <td>0</td>\n",
              "      <td>0</td>\n",
              "      <td>0</td>\n",
              "      <td>0</td>\n",
              "      <td>0</td>\n",
              "      <td>0</td>\n",
              "      <td>0</td>\n",
              "      <td>0</td>\n",
              "      <td>...</td>\n",
              "      <td>0</td>\n",
              "      <td>0</td>\n",
              "      <td>0</td>\n",
              "      <td>0</td>\n",
              "      <td>0</td>\n",
              "      <td>0</td>\n",
              "      <td>0</td>\n",
              "      <td>0</td>\n",
              "      <td>0</td>\n",
              "      <td>0</td>\n",
              "    </tr>\n",
              "    <tr>\n",
              "      <th>1</th>\n",
              "      <td>0</td>\n",
              "      <td>0</td>\n",
              "      <td>0</td>\n",
              "      <td>0</td>\n",
              "      <td>0</td>\n",
              "      <td>0</td>\n",
              "      <td>0</td>\n",
              "      <td>0</td>\n",
              "      <td>0</td>\n",
              "      <td>0</td>\n",
              "      <td>...</td>\n",
              "      <td>0</td>\n",
              "      <td>0</td>\n",
              "      <td>0</td>\n",
              "      <td>0</td>\n",
              "      <td>0</td>\n",
              "      <td>0</td>\n",
              "      <td>0</td>\n",
              "      <td>0</td>\n",
              "      <td>0</td>\n",
              "      <td>0</td>\n",
              "    </tr>\n",
              "    <tr>\n",
              "      <th>2</th>\n",
              "      <td>0</td>\n",
              "      <td>0</td>\n",
              "      <td>0</td>\n",
              "      <td>0</td>\n",
              "      <td>0</td>\n",
              "      <td>0</td>\n",
              "      <td>0</td>\n",
              "      <td>0</td>\n",
              "      <td>0</td>\n",
              "      <td>0</td>\n",
              "      <td>...</td>\n",
              "      <td>0</td>\n",
              "      <td>0</td>\n",
              "      <td>0</td>\n",
              "      <td>0</td>\n",
              "      <td>0</td>\n",
              "      <td>0</td>\n",
              "      <td>0</td>\n",
              "      <td>0</td>\n",
              "      <td>0</td>\n",
              "      <td>0</td>\n",
              "    </tr>\n",
              "    <tr>\n",
              "      <th>3</th>\n",
              "      <td>0</td>\n",
              "      <td>0</td>\n",
              "      <td>0</td>\n",
              "      <td>0</td>\n",
              "      <td>0</td>\n",
              "      <td>0</td>\n",
              "      <td>0</td>\n",
              "      <td>0</td>\n",
              "      <td>0</td>\n",
              "      <td>0</td>\n",
              "      <td>...</td>\n",
              "      <td>0</td>\n",
              "      <td>0</td>\n",
              "      <td>0</td>\n",
              "      <td>0</td>\n",
              "      <td>0</td>\n",
              "      <td>0</td>\n",
              "      <td>0</td>\n",
              "      <td>0</td>\n",
              "      <td>0</td>\n",
              "      <td>0</td>\n",
              "    </tr>\n",
              "    <tr>\n",
              "      <th>4</th>\n",
              "      <td>0</td>\n",
              "      <td>0</td>\n",
              "      <td>0</td>\n",
              "      <td>0</td>\n",
              "      <td>0</td>\n",
              "      <td>0</td>\n",
              "      <td>0</td>\n",
              "      <td>0</td>\n",
              "      <td>0</td>\n",
              "      <td>0</td>\n",
              "      <td>...</td>\n",
              "      <td>0</td>\n",
              "      <td>0</td>\n",
              "      <td>0</td>\n",
              "      <td>0</td>\n",
              "      <td>0</td>\n",
              "      <td>0</td>\n",
              "      <td>0</td>\n",
              "      <td>0</td>\n",
              "      <td>0</td>\n",
              "      <td>0</td>\n",
              "    </tr>\n",
              "    <tr>\n",
              "      <th>...</th>\n",
              "      <td>...</td>\n",
              "      <td>...</td>\n",
              "      <td>...</td>\n",
              "      <td>...</td>\n",
              "      <td>...</td>\n",
              "      <td>...</td>\n",
              "      <td>...</td>\n",
              "      <td>...</td>\n",
              "      <td>...</td>\n",
              "      <td>...</td>\n",
              "      <td>...</td>\n",
              "      <td>...</td>\n",
              "      <td>...</td>\n",
              "      <td>...</td>\n",
              "      <td>...</td>\n",
              "      <td>...</td>\n",
              "      <td>...</td>\n",
              "      <td>...</td>\n",
              "      <td>...</td>\n",
              "      <td>...</td>\n",
              "      <td>...</td>\n",
              "    </tr>\n",
              "    <tr>\n",
              "      <th>3895</th>\n",
              "      <td>0</td>\n",
              "      <td>0</td>\n",
              "      <td>0</td>\n",
              "      <td>0</td>\n",
              "      <td>0</td>\n",
              "      <td>0</td>\n",
              "      <td>0</td>\n",
              "      <td>0</td>\n",
              "      <td>0</td>\n",
              "      <td>0</td>\n",
              "      <td>...</td>\n",
              "      <td>0</td>\n",
              "      <td>0</td>\n",
              "      <td>0</td>\n",
              "      <td>0</td>\n",
              "      <td>0</td>\n",
              "      <td>0</td>\n",
              "      <td>0</td>\n",
              "      <td>0</td>\n",
              "      <td>0</td>\n",
              "      <td>0</td>\n",
              "    </tr>\n",
              "    <tr>\n",
              "      <th>3896</th>\n",
              "      <td>0</td>\n",
              "      <td>0</td>\n",
              "      <td>0</td>\n",
              "      <td>0</td>\n",
              "      <td>0</td>\n",
              "      <td>0</td>\n",
              "      <td>0</td>\n",
              "      <td>0</td>\n",
              "      <td>0</td>\n",
              "      <td>0</td>\n",
              "      <td>...</td>\n",
              "      <td>0</td>\n",
              "      <td>0</td>\n",
              "      <td>0</td>\n",
              "      <td>0</td>\n",
              "      <td>0</td>\n",
              "      <td>0</td>\n",
              "      <td>0</td>\n",
              "      <td>0</td>\n",
              "      <td>0</td>\n",
              "      <td>0</td>\n",
              "    </tr>\n",
              "    <tr>\n",
              "      <th>3897</th>\n",
              "      <td>0</td>\n",
              "      <td>0</td>\n",
              "      <td>0</td>\n",
              "      <td>0</td>\n",
              "      <td>0</td>\n",
              "      <td>0</td>\n",
              "      <td>0</td>\n",
              "      <td>0</td>\n",
              "      <td>0</td>\n",
              "      <td>0</td>\n",
              "      <td>...</td>\n",
              "      <td>0</td>\n",
              "      <td>0</td>\n",
              "      <td>0</td>\n",
              "      <td>0</td>\n",
              "      <td>0</td>\n",
              "      <td>0</td>\n",
              "      <td>0</td>\n",
              "      <td>0</td>\n",
              "      <td>0</td>\n",
              "      <td>0</td>\n",
              "    </tr>\n",
              "    <tr>\n",
              "      <th>3898</th>\n",
              "      <td>0</td>\n",
              "      <td>0</td>\n",
              "      <td>0</td>\n",
              "      <td>0</td>\n",
              "      <td>0</td>\n",
              "      <td>0</td>\n",
              "      <td>0</td>\n",
              "      <td>0</td>\n",
              "      <td>0</td>\n",
              "      <td>0</td>\n",
              "      <td>...</td>\n",
              "      <td>0</td>\n",
              "      <td>0</td>\n",
              "      <td>0</td>\n",
              "      <td>0</td>\n",
              "      <td>0</td>\n",
              "      <td>0</td>\n",
              "      <td>0</td>\n",
              "      <td>0</td>\n",
              "      <td>0</td>\n",
              "      <td>0</td>\n",
              "    </tr>\n",
              "    <tr>\n",
              "      <th>3899</th>\n",
              "      <td>0</td>\n",
              "      <td>0</td>\n",
              "      <td>0</td>\n",
              "      <td>0</td>\n",
              "      <td>0</td>\n",
              "      <td>0</td>\n",
              "      <td>0</td>\n",
              "      <td>0</td>\n",
              "      <td>0</td>\n",
              "      <td>0</td>\n",
              "      <td>...</td>\n",
              "      <td>0</td>\n",
              "      <td>0</td>\n",
              "      <td>0</td>\n",
              "      <td>0</td>\n",
              "      <td>0</td>\n",
              "      <td>0</td>\n",
              "      <td>0</td>\n",
              "      <td>0</td>\n",
              "      <td>0</td>\n",
              "      <td>0</td>\n",
              "    </tr>\n",
              "  </tbody>\n",
              "</table>\n",
              "<p>3900 rows × 591 columns</p>\n",
              "</div>"
            ],
            "text/plain": [
              "      08000839402  08000930705  10  100  1000  12  12hrs  150  150p  150pmsg  \\\n",
              "0               0            0   0    0     0   0      0    0     0        0   \n",
              "1               0            0   0    0     0   0      0    0     0        0   \n",
              "2               0            0   0    0     0   0      0    0     0        0   \n",
              "3               0            0   0    0     0   0      0    0     0        0   \n",
              "4               0            0   0    0     0   0      0    0     0        0   \n",
              "...           ...          ...  ..  ...   ...  ..    ...  ...   ...      ...   \n",
              "3895            0            0   0    0     0   0      0    0     0        0   \n",
              "3896            0            0   0    0     0   0      0    0     0        0   \n",
              "3897            0            0   0    0     0   0      0    0     0        0   \n",
              "3898            0            0   0    0     0   0      0    0     0        0   \n",
              "3899            0            0   0    0     0   0      0    0     0        0   \n",
              "\n",
              "      ...  year  years  yes  yesterday  yo  youll  youre  youve  yr  yup  \n",
              "0     ...     0      0    0          0   0      0      0      0   0    0  \n",
              "1     ...     0      0    0          0   0      0      0      0   0    0  \n",
              "2     ...     0      0    0          0   0      0      0      0   0    0  \n",
              "3     ...     0      0    0          0   0      0      0      0   0    0  \n",
              "4     ...     0      0    0          0   0      0      0      0   0    0  \n",
              "...   ...   ...    ...  ...        ...  ..    ...    ...    ...  ..  ...  \n",
              "3895  ...     0      0    0          0   0      0      0      0   0    0  \n",
              "3896  ...     0      0    0          0   0      0      0      0   0    0  \n",
              "3897  ...     0      0    0          0   0      0      0      0   0    0  \n",
              "3898  ...     0      0    0          0   0      0      0      0   0    0  \n",
              "3899  ...     0      0    0          0   0      0      0      0   0    0  \n",
              "\n",
              "[3900 rows x 591 columns]"
            ]
          },
          "metadata": {},
          "output_type": "display_data"
        }
      ],
      "source": [
        "# We transform the data and display the resulting data frame.\n",
        "X_train2 = count_vector2.fit_transform(text_train)\n",
        "X_test2 = count_vector2.transform(text_test)\n",
        "X_train_feature_list2 = count_vector2.get_feature_names()\n",
        "df_vect2 = pd.DataFrame(data =X_train2.toarray(),columns = X_train_feature_list2)\n",
        "display(df_vect2)"
      ]
    },
    {
      "cell_type": "code",
      "execution_count": null,
      "id": "1e16b60e-af39-4350-8622-675c29f52521",
      "metadata": {
        "id": "1e16b60e-af39-4350-8622-675c29f52521",
        "outputId": "e8ce9954-11ae-406d-df5a-652ff1d51282"
      },
      "outputs": [
        {
          "name": "stdout",
          "output_type": "stream",
          "text": [
            "sent      hope        1.833644e-17\n",
            "hope      sent        1.833644e-17\n",
            "really    did         1.827631e-05\n",
            "did       really      1.827631e-05\n",
            "lor       ready       2.180904e-05\n",
            "                          ...     \n",
            "princess  princess    1.000000e+00\n",
            "price     price       1.000000e+00\n",
            "pretty    pretty      1.000000e+00\n",
            "really    really      1.000000e+00\n",
            "yup       yup         1.000000e+00\n",
            "Length: 349281, dtype: float64\n"
          ]
        }
      ],
      "source": [
        "# We construct the correlation matrix and print the different correlations.\n",
        "c_2 = df_vect2.corr().abs()\n",
        "s = c_2.unstack()\n",
        "so = s.sort_values(kind=\"quicksort\")\n",
        "print(so)"
      ]
    },
    {
      "cell_type": "code",
      "execution_count": null,
      "id": "ca90de48-be8c-469e-adb3-8d7b49ebdef1",
      "metadata": {
        "id": "ca90de48-be8c-469e-adb3-8d7b49ebdef1",
        "outputId": "56d762c6-8f8e-4ac1-9f86-6c4a33be3ddc"
      },
      "outputs": [
        {
          "name": "stdout",
          "output_type": "stream",
          "text": [
            "sent    hope      1.833644e-17\n",
            "hope    sent      1.833644e-17\n",
            "really  did       1.827631e-05\n",
            "did     really    1.827631e-05\n",
            "lor     ready     2.180904e-05\n",
            "ready   lor       2.180904e-05\n",
            "doing   right     2.259511e-05\n",
            "right   doing     2.259511e-05\n",
            "havent  going     2.430700e-05\n",
            "dtype: float64\n"
          ]
        }
      ],
      "source": [
        "print(so[:9])"
      ]
    },
    {
      "cell_type": "code",
      "execution_count": null,
      "id": "8199620e-ab34-4c38-afb4-07dcd7f2a153",
      "metadata": {
        "id": "8199620e-ab34-4c38-afb4-07dcd7f2a153",
        "outputId": "0f4e8249-0235-458f-ac0f-15faf2b809a5"
      },
      "outputs": [
        {
          "name": "stdout",
          "output_type": "stream",
          "text": [
            "08000930705  camcorder      0.957304\n",
            "camcorder    08000930705    0.957304\n",
            "private      statement      0.957304\n",
            "statement    private        0.957304\n",
            "expires      unredeemed     0.957304\n",
            "             identifier     0.957304\n",
            "unredeemed   expires        0.957304\n",
            "identifier   expires        0.957304\n",
            "sae          await          0.970018\n",
            "await        sae            0.970018\n",
            "dtype: float64\n"
          ]
        }
      ],
      "source": [
        "print(so[348678:348688])"
      ]
    },
    {
      "cell_type": "code",
      "execution_count": null,
      "id": "24c76005-8cf1-48bb-8ec5-21ba4beacc24",
      "metadata": {
        "id": "24c76005-8cf1-48bb-8ec5-21ba4beacc24",
        "outputId": "e38d2162-8e43-4e7a-a093-1003956351c2"
      },
      "outputs": [
        {
          "data": {
            "text/plain": [
              "<AxesSubplot:>"
            ]
          },
          "execution_count": 201,
          "metadata": {},
          "output_type": "execute_result"
        },
        {
          "data": {
            "image/png": "[encoded data removed]",
            "text/plain": [
              "<Figure size 432x288 with 2 Axes>"
            ]
          },
          "metadata": {
            "needs_background": "light"
          },
          "output_type": "display_data"
        }
      ],
      "source": [
        "sns.heatmap(data=c_2, cmap='Reds')"
      ]
    },
    {
      "cell_type": "code",
      "execution_count": null,
      "id": "2f58748f-f6d4-44a3-b11f-9d96ad5720fd",
      "metadata": {
        "id": "2f58748f-f6d4-44a3-b11f-9d96ad5720fd"
      },
      "outputs": [],
      "source": [
        "# We construct a variable for the decision tree.\n",
        "DT2= tree.DecisionTreeClassifier(random_state=0)"
      ]
    },
    {
      "cell_type": "code",
      "execution_count": null,
      "id": "299d85ec-5174-400e-8356-45926ffa2c8a",
      "metadata": {
        "id": "299d85ec-5174-400e-8356-45926ffa2c8a"
      },
      "outputs": [],
      "source": [
        "# We fit the decision tree to the new training data.\n",
        "DT_model2=DT2.fit(X_train2,y_train)"
      ]
    },
    {
      "cell_type": "code",
      "execution_count": null,
      "id": "c0c6e3e8-cee0-4583-badb-7ba035f99a58",
      "metadata": {
        "id": "c0c6e3e8-cee0-4583-badb-7ba035f99a58"
      },
      "outputs": [],
      "source": [
        "# We make new predictions.\n",
        "y_test_pred2 = DT2.predict(X_test2)"
      ]
    },
    {
      "cell_type": "code",
      "execution_count": null,
      "id": "41f8200a-233d-49e9-880f-f5f03a2d4dc5",
      "metadata": {
        "id": "41f8200a-233d-49e9-880f-f5f03a2d4dc5"
      },
      "outputs": [],
      "source": [
        "# We create a new list of feature importances.\n",
        "feature_importance_list2 = sorted(zip(DT2.feature_importances_, X_train_feature_list2), reverse=True)"
      ]
    },
    {
      "cell_type": "code",
      "execution_count": null,
      "id": "898dd5da-8851-4ba8-98eb-574dbfcdfc39",
      "metadata": {
        "id": "898dd5da-8851-4ba8-98eb-574dbfcdfc39",
        "outputId": "5e9e40a7-3975-466d-d80a-36d36d267907"
      },
      "outputs": [
        {
          "data": {
            "text/plain": [
              "[(0.15911419824593354, 'txt'),\n",
              " (0.10412444503968325, 'claim'),\n",
              " (0.07963541460282657, 'mobile'),\n",
              " (0.05068319410921545, 'service'),\n",
              " (0.04688076330852805, 'reply'),\n",
              " (0.037282497108681256, '18'),\n",
              " (0.035691313694019025, '500'),\n",
              " (0.026004785412095156, 'collection'),\n",
              " (0.022155020372859276, 'won'),\n",
              " (0.020504735613280572, 'rate')]"
            ]
          },
          "execution_count": 240,
          "metadata": {},
          "output_type": "execute_result"
        }
      ],
      "source": [
        "# The top 10 features\n",
        "feature_importance_list2[:10]"
      ]
    },
    {
      "cell_type": "code",
      "execution_count": null,
      "id": "05f2c3ba-8f2a-4b64-8f45-273826a20d30",
      "metadata": {
        "id": "05f2c3ba-8f2a-4b64-8f45-273826a20d30",
        "outputId": "c9eaf4e1-38b5-4baa-807f-da54d54c9ad4"
      },
      "outputs": [
        {
          "data": {
            "text/plain": [
              "[(0.0, '2nd'),\n",
              " (0.0, '2000'),\n",
              " (0.0, '200'),\n",
              " (0.0, '1st'),\n",
              " (0.0, '150pmsg'),\n",
              " (0.0, '12hrs'),\n",
              " (0.0, '12'),\n",
              " (0.0, '1000'),\n",
              " (0.0, '08000930705'),\n",
              " (0.0, '08000839402')]"
            ]
          },
          "execution_count": 241,
          "metadata": {},
          "output_type": "execute_result"
        }
      ],
      "source": [
        "# The worst 10 features\n",
        "feature_importance_list2[-10:]"
      ]
    },
    {
      "cell_type": "code",
      "execution_count": null,
      "id": "33d10d60-bad9-4293-ada6-05800f5d08c8",
      "metadata": {
        "id": "33d10d60-bad9-4293-ada6-05800f5d08c8"
      },
      "outputs": [],
      "source": [
        "# A Panda series for accessing all relevant features\n",
        "feature_imp2 = pd.Series(DT2.feature_importances_, index = X_train_feature_list2).sort_values(ascending=False)\n",
        "\n",
        "# The top 10 best and worst features (i.e. most and least common words)\n",
        "top_features2 = feature_imp2.take([0,1,2,3,4,5,6,7,8,9,10])\n",
        "worst_features2 = feature_imp2.take([-10,-9,-8,-7,-6,-5,-4,-3,-2,-1])"
      ]
    },
    {
      "cell_type": "code",
      "execution_count": null,
      "id": "0fb76bb4-17a1-444a-a174-d3f1b9ca4289",
      "metadata": {
        "id": "0fb76bb4-17a1-444a-a174-d3f1b9ca4289",
        "outputId": "e24fc99c-3d5b-472c-fa45-b3a5b1dc0279"
      },
      "outputs": [
        {
          "data": {
            "image/png": "[encoded data removed]",
            "text/plain": [
              "<Figure size 432x288 with 1 Axes>"
            ]
          },
          "metadata": {
            "needs_background": "light"
          },
          "output_type": "display_data"
        }
      ],
      "source": [
        "# Creating a barplot of the important features\n",
        "sns.barplot(x=top_features2, y=top_features2.index )\n",
        "\n",
        "# Labels for the graph\n",
        "plt.xlabel('Feature Importance Score')\n",
        "plt.ylabel('Features')\n",
        "plt.title(\"Visualizing Important Features\")\n",
        "plt.show()"
      ]
    },
    {
      "cell_type": "code",
      "execution_count": null,
      "id": "82860fad-eceb-4936-97e6-f53e64a902b2",
      "metadata": {
        "id": "82860fad-eceb-4936-97e6-f53e64a902b2",
        "outputId": "6396041c-a480-406c-ccd1-efe5233e9c77"
      },
      "outputs": [
        {
          "data": {
            "image/png": "[encoded data removed]",
            "text/plain": [
              "<Figure size 432x288 with 1 Axes>"
            ]
          },
          "metadata": {
            "needs_background": "light"
          },
          "output_type": "display_data"
        }
      ],
      "source": [
        "# Same for the worst features.\n",
        "sns.barplot(x=worst_features2, y=worst_features2.index )\n",
        "\n",
        "# Labels for the graph\n",
        "plt.xlabel('Feature Importance Score')\n",
        "plt.ylabel('Features')\n",
        "plt.title(\"Visualizing Less Important Features\")\n",
        "plt.show()"
      ]
    },
    {
      "cell_type": "code",
      "execution_count": null,
      "id": "3c8bbb03-1575-4b5b-b746-283f8e174842",
      "metadata": {
        "id": "3c8bbb03-1575-4b5b-b746-283f8e174842",
        "outputId": "195b04eb-b858-4b1c-e918-2ea6250b2e86"
      },
      "outputs": [
        {
          "name": "stdout",
          "output_type": "stream",
          "text": [
            "              precision    recall  f1-score   support\n",
            "\n",
            "           0       0.97      0.97      0.97      1448\n",
            "           1       0.81      0.81      0.81       224\n",
            "\n",
            "    accuracy                           0.95      1672\n",
            "   macro avg       0.89      0.89      0.89      1672\n",
            "weighted avg       0.95      0.95      0.95      1672\n",
            "\n"
          ]
        }
      ],
      "source": [
        "# The new classification report. We have decreased the precision, \n",
        "# but slightly increased the recall of the minority class. It's hard to \n",
        "# tell if this is really an improvement. \n",
        "print(classification_report(y_test, y_test_pred2))"
      ]
    },
    {
      "cell_type": "code",
      "execution_count": null,
      "id": "a9dcd8e1-12b2-4303-8a90-618178fe2f25",
      "metadata": {
        "id": "a9dcd8e1-12b2-4303-8a90-618178fe2f25",
        "outputId": "5ffbfbbf-ec11-435b-b753-99ef3e2bfb8d"
      },
      "outputs": [
        {
          "data": {
            "text/plain": [
              "<function matplotlib.pyplot.show(close=None, block=None)>"
            ]
          },
          "execution_count": 246,
          "metadata": {},
          "output_type": "execute_result"
        },
        {
          "data": {
            "image/png": "[encoded data removed]",
            "text/plain": [
              "<Figure size 432x288 with 2 Axes>"
            ]
          },
          "metadata": {
            "needs_background": "light"
          },
          "output_type": "display_data"
        }
      ],
      "source": [
        "# We create and plot the new confusion matrix.\n",
        "cf_matrix2 = confusion_matrix(y_test, y_test_pred2)\n",
        "\n",
        "sns.heatmap(cf_matrix2, annot=True, fmt='d', cmap='Blues')\n",
        "plt.xlabel('Predicted')\n",
        "plt.ylabel('True')\n",
        "plt.show"
      ]
    },
    {
      "cell_type": "code",
      "execution_count": null,
      "id": "26cb78ea-22c3-44db-9769-12aa45776995",
      "metadata": {
        "id": "26cb78ea-22c3-44db-9769-12aa45776995"
      },
      "outputs": [],
      "source": [
        "# We will now repeat the same steps again, but with normalisation. In particular we will use TfidfVectorizer \n",
        "# rather than just CountVectorizor. "
      ]
    },
    {
      "cell_type": "code",
      "execution_count": null,
      "id": "de02cdeb-fef1-4a4c-9a53-0774ac67db08",
      "metadata": {
        "id": "de02cdeb-fef1-4a4c-9a53-0774ac67db08"
      },
      "outputs": [],
      "source": [
        "# We import the relevant vectorisor\n",
        "from sklearn.feature_extraction.text import TfidfVectorizer, ENGLISH_STOP_WORDS"
      ]
    },
    {
      "cell_type": "code",
      "execution_count": null,
      "id": "f39981a9-09be-4635-822e-cf28f15e5f23",
      "metadata": {
        "id": "f39981a9-09be-4635-822e-cf28f15e5f23"
      },
      "outputs": [],
      "source": [
        "# We create a variable for the vectorizer.\n",
        "vectorizer_Tfidf = TfidfVectorizer(lowercase=True, ngram_range=(1,1), max_df=0.75, min_df=10, max_features=20000, stop_words='english')"
      ]
    },
    {
      "cell_type": "code",
      "execution_count": null,
      "id": "aa5d2de9-b28a-48d3-a7a5-5f4e0bca8d9a",
      "metadata": {
        "id": "aa5d2de9-b28a-48d3-a7a5-5f4e0bca8d9a",
        "outputId": "3a5053b5-dd6f-4768-e646-ada35a08549f"
      },
      "outputs": [
        {
          "data": {
            "text/html": [
              "<div>\n",
              "<style scoped>\n",
              "    .dataframe tbody tr th:only-of-type {\n",
              "        vertical-align: middle;\n",
              "    }\n",
              "\n",
              "    .dataframe tbody tr th {\n",
              "        vertical-align: top;\n",
              "    }\n",
              "\n",
              "    .dataframe thead th {\n",
              "        text-align: right;\n",
              "    }\n",
              "</style>\n",
              "<table border=\"1\" class=\"dataframe\">\n",
              "  <thead>\n",
              "    <tr style=\"text-align: right;\">\n",
              "      <th></th>\n",
              "      <th>08000839402</th>\n",
              "      <th>08000930705</th>\n",
              "      <th>10</th>\n",
              "      <th>100</th>\n",
              "      <th>1000</th>\n",
              "      <th>12</th>\n",
              "      <th>12hrs</th>\n",
              "      <th>150</th>\n",
              "      <th>150p</th>\n",
              "      <th>150pmsg</th>\n",
              "      <th>...</th>\n",
              "      <th>year</th>\n",
              "      <th>years</th>\n",
              "      <th>yes</th>\n",
              "      <th>yesterday</th>\n",
              "      <th>yo</th>\n",
              "      <th>youll</th>\n",
              "      <th>youre</th>\n",
              "      <th>youve</th>\n",
              "      <th>yr</th>\n",
              "      <th>yup</th>\n",
              "    </tr>\n",
              "  </thead>\n",
              "  <tbody>\n",
              "    <tr>\n",
              "      <th>0</th>\n",
              "      <td>0.0</td>\n",
              "      <td>0.0</td>\n",
              "      <td>0.0</td>\n",
              "      <td>0.0</td>\n",
              "      <td>0.0</td>\n",
              "      <td>0.0</td>\n",
              "      <td>0.0</td>\n",
              "      <td>0.0</td>\n",
              "      <td>0.0</td>\n",
              "      <td>0.0</td>\n",
              "      <td>...</td>\n",
              "      <td>0.0</td>\n",
              "      <td>0.0</td>\n",
              "      <td>0.0</td>\n",
              "      <td>0.0</td>\n",
              "      <td>0.0</td>\n",
              "      <td>0.0</td>\n",
              "      <td>0.0</td>\n",
              "      <td>0.0</td>\n",
              "      <td>0.0</td>\n",
              "      <td>0.0</td>\n",
              "    </tr>\n",
              "    <tr>\n",
              "      <th>1</th>\n",
              "      <td>0.0</td>\n",
              "      <td>0.0</td>\n",
              "      <td>0.0</td>\n",
              "      <td>0.0</td>\n",
              "      <td>0.0</td>\n",
              "      <td>0.0</td>\n",
              "      <td>0.0</td>\n",
              "      <td>0.0</td>\n",
              "      <td>0.0</td>\n",
              "      <td>0.0</td>\n",
              "      <td>...</td>\n",
              "      <td>0.0</td>\n",
              "      <td>0.0</td>\n",
              "      <td>0.0</td>\n",
              "      <td>0.0</td>\n",
              "      <td>0.0</td>\n",
              "      <td>0.0</td>\n",
              "      <td>0.0</td>\n",
              "      <td>0.0</td>\n",
              "      <td>0.0</td>\n",
              "      <td>0.0</td>\n",
              "    </tr>\n",
              "    <tr>\n",
              "      <th>2</th>\n",
              "      <td>0.0</td>\n",
              "      <td>0.0</td>\n",
              "      <td>0.0</td>\n",
              "      <td>0.0</td>\n",
              "      <td>0.0</td>\n",
              "      <td>0.0</td>\n",
              "      <td>0.0</td>\n",
              "      <td>0.0</td>\n",
              "      <td>0.0</td>\n",
              "      <td>0.0</td>\n",
              "      <td>...</td>\n",
              "      <td>0.0</td>\n",
              "      <td>0.0</td>\n",
              "      <td>0.0</td>\n",
              "      <td>0.0</td>\n",
              "      <td>0.0</td>\n",
              "      <td>0.0</td>\n",
              "      <td>0.0</td>\n",
              "      <td>0.0</td>\n",
              "      <td>0.0</td>\n",
              "      <td>0.0</td>\n",
              "    </tr>\n",
              "    <tr>\n",
              "      <th>3</th>\n",
              "      <td>0.0</td>\n",
              "      <td>0.0</td>\n",
              "      <td>0.0</td>\n",
              "      <td>0.0</td>\n",
              "      <td>0.0</td>\n",
              "      <td>0.0</td>\n",
              "      <td>0.0</td>\n",
              "      <td>0.0</td>\n",
              "      <td>0.0</td>\n",
              "      <td>0.0</td>\n",
              "      <td>...</td>\n",
              "      <td>0.0</td>\n",
              "      <td>0.0</td>\n",
              "      <td>0.0</td>\n",
              "      <td>0.0</td>\n",
              "      <td>0.0</td>\n",
              "      <td>0.0</td>\n",
              "      <td>0.0</td>\n",
              "      <td>0.0</td>\n",
              "      <td>0.0</td>\n",
              "      <td>0.0</td>\n",
              "    </tr>\n",
              "    <tr>\n",
              "      <th>4</th>\n",
              "      <td>0.0</td>\n",
              "      <td>0.0</td>\n",
              "      <td>0.0</td>\n",
              "      <td>0.0</td>\n",
              "      <td>0.0</td>\n",
              "      <td>0.0</td>\n",
              "      <td>0.0</td>\n",
              "      <td>0.0</td>\n",
              "      <td>0.0</td>\n",
              "      <td>0.0</td>\n",
              "      <td>...</td>\n",
              "      <td>0.0</td>\n",
              "      <td>0.0</td>\n",
              "      <td>0.0</td>\n",
              "      <td>0.0</td>\n",
              "      <td>0.0</td>\n",
              "      <td>0.0</td>\n",
              "      <td>0.0</td>\n",
              "      <td>0.0</td>\n",
              "      <td>0.0</td>\n",
              "      <td>0.0</td>\n",
              "    </tr>\n",
              "    <tr>\n",
              "      <th>...</th>\n",
              "      <td>...</td>\n",
              "      <td>...</td>\n",
              "      <td>...</td>\n",
              "      <td>...</td>\n",
              "      <td>...</td>\n",
              "      <td>...</td>\n",
              "      <td>...</td>\n",
              "      <td>...</td>\n",
              "      <td>...</td>\n",
              "      <td>...</td>\n",
              "      <td>...</td>\n",
              "      <td>...</td>\n",
              "      <td>...</td>\n",
              "      <td>...</td>\n",
              "      <td>...</td>\n",
              "      <td>...</td>\n",
              "      <td>...</td>\n",
              "      <td>...</td>\n",
              "      <td>...</td>\n",
              "      <td>...</td>\n",
              "      <td>...</td>\n",
              "    </tr>\n",
              "    <tr>\n",
              "      <th>3895</th>\n",
              "      <td>0.0</td>\n",
              "      <td>0.0</td>\n",
              "      <td>0.0</td>\n",
              "      <td>0.0</td>\n",
              "      <td>0.0</td>\n",
              "      <td>0.0</td>\n",
              "      <td>0.0</td>\n",
              "      <td>0.0</td>\n",
              "      <td>0.0</td>\n",
              "      <td>0.0</td>\n",
              "      <td>...</td>\n",
              "      <td>0.0</td>\n",
              "      <td>0.0</td>\n",
              "      <td>0.0</td>\n",
              "      <td>0.0</td>\n",
              "      <td>0.0</td>\n",
              "      <td>0.0</td>\n",
              "      <td>0.0</td>\n",
              "      <td>0.0</td>\n",
              "      <td>0.0</td>\n",
              "      <td>0.0</td>\n",
              "    </tr>\n",
              "    <tr>\n",
              "      <th>3896</th>\n",
              "      <td>0.0</td>\n",
              "      <td>0.0</td>\n",
              "      <td>0.0</td>\n",
              "      <td>0.0</td>\n",
              "      <td>0.0</td>\n",
              "      <td>0.0</td>\n",
              "      <td>0.0</td>\n",
              "      <td>0.0</td>\n",
              "      <td>0.0</td>\n",
              "      <td>0.0</td>\n",
              "      <td>...</td>\n",
              "      <td>0.0</td>\n",
              "      <td>0.0</td>\n",
              "      <td>0.0</td>\n",
              "      <td>0.0</td>\n",
              "      <td>0.0</td>\n",
              "      <td>0.0</td>\n",
              "      <td>0.0</td>\n",
              "      <td>0.0</td>\n",
              "      <td>0.0</td>\n",
              "      <td>0.0</td>\n",
              "    </tr>\n",
              "    <tr>\n",
              "      <th>3897</th>\n",
              "      <td>0.0</td>\n",
              "      <td>0.0</td>\n",
              "      <td>0.0</td>\n",
              "      <td>0.0</td>\n",
              "      <td>0.0</td>\n",
              "      <td>0.0</td>\n",
              "      <td>0.0</td>\n",
              "      <td>0.0</td>\n",
              "      <td>0.0</td>\n",
              "      <td>0.0</td>\n",
              "      <td>...</td>\n",
              "      <td>0.0</td>\n",
              "      <td>0.0</td>\n",
              "      <td>0.0</td>\n",
              "      <td>0.0</td>\n",
              "      <td>0.0</td>\n",
              "      <td>0.0</td>\n",
              "      <td>0.0</td>\n",
              "      <td>0.0</td>\n",
              "      <td>0.0</td>\n",
              "      <td>0.0</td>\n",
              "    </tr>\n",
              "    <tr>\n",
              "      <th>3898</th>\n",
              "      <td>0.0</td>\n",
              "      <td>0.0</td>\n",
              "      <td>0.0</td>\n",
              "      <td>0.0</td>\n",
              "      <td>0.0</td>\n",
              "      <td>0.0</td>\n",
              "      <td>0.0</td>\n",
              "      <td>0.0</td>\n",
              "      <td>0.0</td>\n",
              "      <td>0.0</td>\n",
              "      <td>...</td>\n",
              "      <td>0.0</td>\n",
              "      <td>0.0</td>\n",
              "      <td>0.0</td>\n",
              "      <td>0.0</td>\n",
              "      <td>0.0</td>\n",
              "      <td>0.0</td>\n",
              "      <td>0.0</td>\n",
              "      <td>0.0</td>\n",
              "      <td>0.0</td>\n",
              "      <td>0.0</td>\n",
              "    </tr>\n",
              "    <tr>\n",
              "      <th>3899</th>\n",
              "      <td>0.0</td>\n",
              "      <td>0.0</td>\n",
              "      <td>0.0</td>\n",
              "      <td>0.0</td>\n",
              "      <td>0.0</td>\n",
              "      <td>0.0</td>\n",
              "      <td>0.0</td>\n",
              "      <td>0.0</td>\n",
              "      <td>0.0</td>\n",
              "      <td>0.0</td>\n",
              "      <td>...</td>\n",
              "      <td>0.0</td>\n",
              "      <td>0.0</td>\n",
              "      <td>0.0</td>\n",
              "      <td>0.0</td>\n",
              "      <td>0.0</td>\n",
              "      <td>0.0</td>\n",
              "      <td>0.0</td>\n",
              "      <td>0.0</td>\n",
              "      <td>0.0</td>\n",
              "      <td>0.0</td>\n",
              "    </tr>\n",
              "  </tbody>\n",
              "</table>\n",
              "<p>3900 rows × 591 columns</p>\n",
              "</div>"
            ],
            "text/plain": [
              "      08000839402  08000930705   10  100  1000   12  12hrs  150  150p  \\\n",
              "0             0.0          0.0  0.0  0.0   0.0  0.0    0.0  0.0   0.0   \n",
              "1             0.0          0.0  0.0  0.0   0.0  0.0    0.0  0.0   0.0   \n",
              "2             0.0          0.0  0.0  0.0   0.0  0.0    0.0  0.0   0.0   \n",
              "3             0.0          0.0  0.0  0.0   0.0  0.0    0.0  0.0   0.0   \n",
              "4             0.0          0.0  0.0  0.0   0.0  0.0    0.0  0.0   0.0   \n",
              "...           ...          ...  ...  ...   ...  ...    ...  ...   ...   \n",
              "3895          0.0          0.0  0.0  0.0   0.0  0.0    0.0  0.0   0.0   \n",
              "3896          0.0          0.0  0.0  0.0   0.0  0.0    0.0  0.0   0.0   \n",
              "3897          0.0          0.0  0.0  0.0   0.0  0.0    0.0  0.0   0.0   \n",
              "3898          0.0          0.0  0.0  0.0   0.0  0.0    0.0  0.0   0.0   \n",
              "3899          0.0          0.0  0.0  0.0   0.0  0.0    0.0  0.0   0.0   \n",
              "\n",
              "      150pmsg  ...  year  years  yes  yesterday   yo  youll  youre  youve  \\\n",
              "0         0.0  ...   0.0    0.0  0.0        0.0  0.0    0.0    0.0    0.0   \n",
              "1         0.0  ...   0.0    0.0  0.0        0.0  0.0    0.0    0.0    0.0   \n",
              "2         0.0  ...   0.0    0.0  0.0        0.0  0.0    0.0    0.0    0.0   \n",
              "3         0.0  ...   0.0    0.0  0.0        0.0  0.0    0.0    0.0    0.0   \n",
              "4         0.0  ...   0.0    0.0  0.0        0.0  0.0    0.0    0.0    0.0   \n",
              "...       ...  ...   ...    ...  ...        ...  ...    ...    ...    ...   \n",
              "3895      0.0  ...   0.0    0.0  0.0        0.0  0.0    0.0    0.0    0.0   \n",
              "3896      0.0  ...   0.0    0.0  0.0        0.0  0.0    0.0    0.0    0.0   \n",
              "3897      0.0  ...   0.0    0.0  0.0        0.0  0.0    0.0    0.0    0.0   \n",
              "3898      0.0  ...   0.0    0.0  0.0        0.0  0.0    0.0    0.0    0.0   \n",
              "3899      0.0  ...   0.0    0.0  0.0        0.0  0.0    0.0    0.0    0.0   \n",
              "\n",
              "       yr  yup  \n",
              "0     0.0  0.0  \n",
              "1     0.0  0.0  \n",
              "2     0.0  0.0  \n",
              "3     0.0  0.0  \n",
              "4     0.0  0.0  \n",
              "...   ...  ...  \n",
              "3895  0.0  0.0  \n",
              "3896  0.0  0.0  \n",
              "3897  0.0  0.0  \n",
              "3898  0.0  0.0  \n",
              "3899  0.0  0.0  \n",
              "\n",
              "[3900 rows x 591 columns]"
            ]
          },
          "metadata": {},
          "output_type": "display_data"
        }
      ],
      "source": [
        "# We transform the data again using the new vectorizer and display \n",
        "# the corresponding data frame.\n",
        "X_train_Tfidf = vectorizer_Tfidf.fit_transform(text_train)\n",
        "X_test_Tfidf = vectorizer_Tfidf.transform(text_test)\n",
        "X_train_feature_list_Tfidf = vectorizer_Tfidf.get_feature_names()\n",
        "df_vect_Tfidf = pd.DataFrame(data = X_train_Tfidf.toarray(),columns = X_train_feature_list_Tfidf)\n",
        "display(df_vect_Tfidf)"
      ]
    },
    {
      "cell_type": "code",
      "execution_count": null,
      "id": "d7eaf32f-2af9-440d-acbd-163c97760aac",
      "metadata": {
        "tags": [],
        "id": "d7eaf32f-2af9-440d-acbd-163c97760aac"
      },
      "outputs": [],
      "source": [
        "# Here we define the training model and fit it on the training data.\n",
        "DT_Tfidf = tree.DecisionTreeClassifier(random_state=0)\n",
        "DT_model_Tfidf = DT_Tfidf.fit(X_train_Tfidf, y_train)"
      ]
    },
    {
      "cell_type": "code",
      "execution_count": null,
      "id": "7f848f68-e137-4c4e-be65-0fcbe3f1b10d",
      "metadata": {
        "tags": [],
        "id": "7f848f68-e137-4c4e-be65-0fcbe3f1b10d"
      },
      "outputs": [],
      "source": [
        "# We make the model's predictions for the test data\n",
        "y_test_pred_Tfidf = DT_Tfidf.predict(X_test_Tfidf)"
      ]
    },
    {
      "cell_type": "code",
      "execution_count": null,
      "id": "7fdf63e7-f8f1-4f16-8977-b5cf4dd6ed0b",
      "metadata": {
        "id": "7fdf63e7-f8f1-4f16-8977-b5cf4dd6ed0b"
      },
      "outputs": [],
      "source": [
        "# A new list of feature importances. \n",
        "feature_importance_list_Tfidf = sorted(zip(DT_Tfidf.feature_importances_, X_train_feature_list_Tfidf), reverse=True)"
      ]
    },
    {
      "cell_type": "code",
      "execution_count": null,
      "id": "a46fcc24-773d-47f3-98ea-566910ace517",
      "metadata": {
        "id": "a46fcc24-773d-47f3-98ea-566910ace517"
      },
      "outputs": [],
      "source": [
        "# We make a new panda series for the above and create top and worst features.\n",
        "feature_imp_Tfidf = pd.Series(DT_Tfidf.feature_importances_, index = X_train_feature_list_Tfidf).sort_values(ascending=False)\n",
        "\n",
        "top_feature_Tfidf = feature_imp_Tfidf.take([0,1,2,3,4,5,6,7,8,9,10])\n",
        "worst_features_Tfidf = feature_imp_Tfidf.take([-10,-9,-8,-7,-6,-5,-4,-3,-2,-1])"
      ]
    },
    {
      "cell_type": "code",
      "execution_count": null,
      "id": "9fb2aad3-8fd8-4c6e-bd9c-976adae7dcb4",
      "metadata": {
        "id": "9fb2aad3-8fd8-4c6e-bd9c-976adae7dcb4",
        "outputId": "6816f9f4-0454-4099-e560-e10bdc0423b6"
      },
      "outputs": [
        {
          "data": {
            "image/png": "[encoded data removed]",
            "text/plain": [
              "<Figure size 432x288 with 1 Axes>"
            ]
          },
          "metadata": {
            "needs_background": "light"
          },
          "output_type": "display_data"
        }
      ],
      "source": [
        "# We plot the new top features again.\n",
        "sns.barplot(x=top_feature_Tfidf, y=top_feature_Tfidf.index )\n",
        "\n",
        "# labels for the graph\n",
        "plt.xlabel('Feature Importance Score')\n",
        "plt.ylabel('Features')\n",
        "plt.title(\"Visualizing Important Features\")\n",
        "plt.show()"
      ]
    },
    {
      "cell_type": "code",
      "execution_count": null,
      "id": "d00502ff-b4ea-4e00-aaa9-30e2059330c7",
      "metadata": {
        "id": "d00502ff-b4ea-4e00-aaa9-30e2059330c7",
        "outputId": "9cfbda2f-2ba5-473b-9654-74f09ca387c6"
      },
      "outputs": [
        {
          "data": {
            "image/png": "[encoded data removed]",
            "text/plain": [
              "<Figure size 432x288 with 1 Axes>"
            ]
          },
          "metadata": {
            "needs_background": "light"
          },
          "output_type": "display_data"
        }
      ],
      "source": [
        "# The worst features.\n",
        "sns.barplot(x=worst_features_Tfidf, y=worst_features_Tfidf.index )\n",
        "\n",
        "# Graph labels.\n",
        "plt.xlabel('Feature Importance Score')\n",
        "plt.ylabel('Features')\n",
        "plt.title(\"Visualizing Less Important Features\")\n",
        "plt.show()"
      ]
    },
    {
      "cell_type": "code",
      "execution_count": null,
      "id": "0ae791b2-edb8-492b-a44c-e5f7970448a7",
      "metadata": {
        "id": "0ae791b2-edb8-492b-a44c-e5f7970448a7",
        "outputId": "1e47d27b-de21-47b1-9102-92b77d940ad8"
      },
      "outputs": [
        {
          "name": "stdout",
          "output_type": "stream",
          "text": [
            "              precision    recall  f1-score   support\n",
            "\n",
            "           0       0.97      0.98      0.98      1448\n",
            "           1       0.88      0.81      0.84       224\n",
            "\n",
            "    accuracy                           0.96      1672\n",
            "   macro avg       0.92      0.90      0.91      1672\n",
            "weighted avg       0.96      0.96      0.96      1672\n",
            "\n"
          ]
        }
      ],
      "source": [
        "# The classification report again. The results here are slightly better, in that we have not lost\n",
        "# as much precision in the minority class. The recall is also slightly better than for the\n",
        "# the 1st (non-preprocessed version).\n",
        "print(classification_report(y_test, y_test_pred_Tfidf))"
      ]
    },
    {
      "cell_type": "code",
      "execution_count": null,
      "id": "baae0407-3365-4f9d-a1f0-fe0df7c6ead3",
      "metadata": {
        "tags": [],
        "id": "baae0407-3365-4f9d-a1f0-fe0df7c6ead3",
        "outputId": "41ddd5a2-8118-45c8-8098-4e200f0a6987"
      },
      "outputs": [
        {
          "data": {
            "text/plain": [
              "<function matplotlib.pyplot.show(close=None, block=None)>"
            ]
          },
          "execution_count": 258,
          "metadata": {},
          "output_type": "execute_result"
        },
        {
          "data": {
            "image/png": "[encoded data removed]",
            "text/plain": [
              "<Figure size 432x288 with 2 Axes>"
            ]
          },
          "metadata": {
            "needs_background": "light"
          },
          "output_type": "display_data"
        }
      ],
      "source": [
        "#create the confusion matrix\n",
        "cf_matrix_Tfidf = confusion_matrix(y_test, y_test_pred_Tfidf)\n",
        "\n",
        "#plot the confusion matrix\n",
        "sns.heatmap(cf_matrix_Tfidf, annot=True, fmt='d', cmap='Blues')\n",
        "plt.xlabel('Predicted')\n",
        "plt.ylabel('True')\n",
        "plt.show"
      ]
    },
    {
      "cell_type": "code",
      "execution_count": null,
      "id": "8f7e38f6-28ae-4496-a318-1cd74f4cf779",
      "metadata": {
        "id": "8f7e38f6-28ae-4496-a318-1cd74f4cf779",
        "outputId": "7558a418-53d9-4912-87c3-4228597630e3"
      },
      "outputs": [
        {
          "name": "stdout",
          "output_type": "stream",
          "text": [
            "sent      hope        1.833644e-17\n",
            "hope      sent        1.833644e-17\n",
            "really    did         1.827631e-05\n",
            "did       really      1.827631e-05\n",
            "lor       ready       2.180904e-05\n",
            "                          ...     \n",
            "princess  princess    1.000000e+00\n",
            "price     price       1.000000e+00\n",
            "pretty    pretty      1.000000e+00\n",
            "really    really      1.000000e+00\n",
            "yup       yup         1.000000e+00\n",
            "Length: 349281, dtype: float64\n"
          ]
        }
      ],
      "source": [
        "# The co-correspondence matrix and the different correlations again.\n",
        "c_Tfidf = df_vect_Tfidf.corr().abs()\n",
        "s_Tfidf = c_Tfidf.unstack()\n",
        "so_Tfidf = s.sort_values(kind=\"quicksort\")\n",
        "print(so)"
      ]
    },
    {
      "cell_type": "code",
      "execution_count": null,
      "id": "8ee14384-6975-4da6-b665-c2edf3bcf1ae",
      "metadata": {
        "id": "8ee14384-6975-4da6-b665-c2edf3bcf1ae",
        "outputId": "0dcde8cf-c98b-43e7-e723-e39716f88503"
      },
      "outputs": [
        {
          "data": {
            "text/plain": [
              "<AxesSubplot:>"
            ]
          },
          "execution_count": 260,
          "metadata": {},
          "output_type": "execute_result"
        },
        {
          "data": {
            "image/png": "[encoded data removed]",
            "text/plain": [
              "<Figure size 432x288 with 2 Axes>"
            ]
          },
          "metadata": {
            "needs_background": "light"
          },
          "output_type": "display_data"
        }
      ],
      "source": [
        "# Another plot of the heat map.\n",
        "sns.heatmap(data=c_Tfidf, cmap='Reds')"
      ]
    },
    {
      "cell_type": "code",
      "execution_count": null,
      "id": "76abcab4-1357-498a-a2e9-f1fd1ab94467",
      "metadata": {
        "id": "76abcab4-1357-498a-a2e9-f1fd1ab94467"
      },
      "outputs": [],
      "source": [
        "# The same vectoriser as before, but with a modified ngram_range (i.e. we will now deal with 2-grams)\n",
        "vectorizer_Tfidf2 = TfidfVectorizer(lowercase=True, ngram_range=(1,2), max_df=0.75, min_df=10, max_features=20000, stop_words='english')"
      ]
    },
    {
      "cell_type": "code",
      "execution_count": null,
      "id": "7efda5f3-590a-4e59-b2e1-542be5e1ef92",
      "metadata": {
        "tags": [],
        "id": "7efda5f3-590a-4e59-b2e1-542be5e1ef92",
        "outputId": "556f72fd-858c-457a-905a-6237bce6de31"
      },
      "outputs": [
        {
          "data": {
            "text/html": [
              "<div>\n",
              "<style scoped>\n",
              "    .dataframe tbody tr th:only-of-type {\n",
              "        vertical-align: middle;\n",
              "    }\n",
              "\n",
              "    .dataframe tbody tr th {\n",
              "        vertical-align: top;\n",
              "    }\n",
              "\n",
              "    .dataframe thead th {\n",
              "        text-align: right;\n",
              "    }\n",
              "</style>\n",
              "<table border=\"1\" class=\"dataframe\">\n",
              "  <thead>\n",
              "    <tr style=\"text-align: right;\">\n",
              "      <th></th>\n",
              "      <th>08000839402</th>\n",
              "      <th>08000930705</th>\n",
              "      <th>10</th>\n",
              "      <th>100</th>\n",
              "      <th>1000</th>\n",
              "      <th>1000 cash</th>\n",
              "      <th>12</th>\n",
              "      <th>12hrs</th>\n",
              "      <th>150</th>\n",
              "      <th>150p</th>\n",
              "      <th>...</th>\n",
              "      <th>year</th>\n",
              "      <th>years</th>\n",
              "      <th>yes</th>\n",
              "      <th>yesterday</th>\n",
              "      <th>yo</th>\n",
              "      <th>youll</th>\n",
              "      <th>youre</th>\n",
              "      <th>youve</th>\n",
              "      <th>yr</th>\n",
              "      <th>yup</th>\n",
              "    </tr>\n",
              "  </thead>\n",
              "  <tbody>\n",
              "    <tr>\n",
              "      <th>0</th>\n",
              "      <td>0.0</td>\n",
              "      <td>0.0</td>\n",
              "      <td>0.0</td>\n",
              "      <td>0.0</td>\n",
              "      <td>0.0</td>\n",
              "      <td>0.0</td>\n",
              "      <td>0.0</td>\n",
              "      <td>0.0</td>\n",
              "      <td>0.0</td>\n",
              "      <td>0.0</td>\n",
              "      <td>...</td>\n",
              "      <td>0.0</td>\n",
              "      <td>0.0</td>\n",
              "      <td>0.0</td>\n",
              "      <td>0.0</td>\n",
              "      <td>0.0</td>\n",
              "      <td>0.0</td>\n",
              "      <td>0.0</td>\n",
              "      <td>0.0</td>\n",
              "      <td>0.0</td>\n",
              "      <td>0.0</td>\n",
              "    </tr>\n",
              "    <tr>\n",
              "      <th>1</th>\n",
              "      <td>0.0</td>\n",
              "      <td>0.0</td>\n",
              "      <td>0.0</td>\n",
              "      <td>0.0</td>\n",
              "      <td>0.0</td>\n",
              "      <td>0.0</td>\n",
              "      <td>0.0</td>\n",
              "      <td>0.0</td>\n",
              "      <td>0.0</td>\n",
              "      <td>0.0</td>\n",
              "      <td>...</td>\n",
              "      <td>0.0</td>\n",
              "      <td>0.0</td>\n",
              "      <td>0.0</td>\n",
              "      <td>0.0</td>\n",
              "      <td>0.0</td>\n",
              "      <td>0.0</td>\n",
              "      <td>0.0</td>\n",
              "      <td>0.0</td>\n",
              "      <td>0.0</td>\n",
              "      <td>0.0</td>\n",
              "    </tr>\n",
              "    <tr>\n",
              "      <th>2</th>\n",
              "      <td>0.0</td>\n",
              "      <td>0.0</td>\n",
              "      <td>0.0</td>\n",
              "      <td>0.0</td>\n",
              "      <td>0.0</td>\n",
              "      <td>0.0</td>\n",
              "      <td>0.0</td>\n",
              "      <td>0.0</td>\n",
              "      <td>0.0</td>\n",
              "      <td>0.0</td>\n",
              "      <td>...</td>\n",
              "      <td>0.0</td>\n",
              "      <td>0.0</td>\n",
              "      <td>0.0</td>\n",
              "      <td>0.0</td>\n",
              "      <td>0.0</td>\n",
              "      <td>0.0</td>\n",
              "      <td>0.0</td>\n",
              "      <td>0.0</td>\n",
              "      <td>0.0</td>\n",
              "      <td>0.0</td>\n",
              "    </tr>\n",
              "    <tr>\n",
              "      <th>3</th>\n",
              "      <td>0.0</td>\n",
              "      <td>0.0</td>\n",
              "      <td>0.0</td>\n",
              "      <td>0.0</td>\n",
              "      <td>0.0</td>\n",
              "      <td>0.0</td>\n",
              "      <td>0.0</td>\n",
              "      <td>0.0</td>\n",
              "      <td>0.0</td>\n",
              "      <td>0.0</td>\n",
              "      <td>...</td>\n",
              "      <td>0.0</td>\n",
              "      <td>0.0</td>\n",
              "      <td>0.0</td>\n",
              "      <td>0.0</td>\n",
              "      <td>0.0</td>\n",
              "      <td>0.0</td>\n",
              "      <td>0.0</td>\n",
              "      <td>0.0</td>\n",
              "      <td>0.0</td>\n",
              "      <td>0.0</td>\n",
              "    </tr>\n",
              "    <tr>\n",
              "      <th>4</th>\n",
              "      <td>0.0</td>\n",
              "      <td>0.0</td>\n",
              "      <td>0.0</td>\n",
              "      <td>0.0</td>\n",
              "      <td>0.0</td>\n",
              "      <td>0.0</td>\n",
              "      <td>0.0</td>\n",
              "      <td>0.0</td>\n",
              "      <td>0.0</td>\n",
              "      <td>0.0</td>\n",
              "      <td>...</td>\n",
              "      <td>0.0</td>\n",
              "      <td>0.0</td>\n",
              "      <td>0.0</td>\n",
              "      <td>0.0</td>\n",
              "      <td>0.0</td>\n",
              "      <td>0.0</td>\n",
              "      <td>0.0</td>\n",
              "      <td>0.0</td>\n",
              "      <td>0.0</td>\n",
              "      <td>0.0</td>\n",
              "    </tr>\n",
              "    <tr>\n",
              "      <th>...</th>\n",
              "      <td>...</td>\n",
              "      <td>...</td>\n",
              "      <td>...</td>\n",
              "      <td>...</td>\n",
              "      <td>...</td>\n",
              "      <td>...</td>\n",
              "      <td>...</td>\n",
              "      <td>...</td>\n",
              "      <td>...</td>\n",
              "      <td>...</td>\n",
              "      <td>...</td>\n",
              "      <td>...</td>\n",
              "      <td>...</td>\n",
              "      <td>...</td>\n",
              "      <td>...</td>\n",
              "      <td>...</td>\n",
              "      <td>...</td>\n",
              "      <td>...</td>\n",
              "      <td>...</td>\n",
              "      <td>...</td>\n",
              "      <td>...</td>\n",
              "    </tr>\n",
              "    <tr>\n",
              "      <th>3895</th>\n",
              "      <td>0.0</td>\n",
              "      <td>0.0</td>\n",
              "      <td>0.0</td>\n",
              "      <td>0.0</td>\n",
              "      <td>0.0</td>\n",
              "      <td>0.0</td>\n",
              "      <td>0.0</td>\n",
              "      <td>0.0</td>\n",
              "      <td>0.0</td>\n",
              "      <td>0.0</td>\n",
              "      <td>...</td>\n",
              "      <td>0.0</td>\n",
              "      <td>0.0</td>\n",
              "      <td>0.0</td>\n",
              "      <td>0.0</td>\n",
              "      <td>0.0</td>\n",
              "      <td>0.0</td>\n",
              "      <td>0.0</td>\n",
              "      <td>0.0</td>\n",
              "      <td>0.0</td>\n",
              "      <td>0.0</td>\n",
              "    </tr>\n",
              "    <tr>\n",
              "      <th>3896</th>\n",
              "      <td>0.0</td>\n",
              "      <td>0.0</td>\n",
              "      <td>0.0</td>\n",
              "      <td>0.0</td>\n",
              "      <td>0.0</td>\n",
              "      <td>0.0</td>\n",
              "      <td>0.0</td>\n",
              "      <td>0.0</td>\n",
              "      <td>0.0</td>\n",
              "      <td>0.0</td>\n",
              "      <td>...</td>\n",
              "      <td>0.0</td>\n",
              "      <td>0.0</td>\n",
              "      <td>0.0</td>\n",
              "      <td>0.0</td>\n",
              "      <td>0.0</td>\n",
              "      <td>0.0</td>\n",
              "      <td>0.0</td>\n",
              "      <td>0.0</td>\n",
              "      <td>0.0</td>\n",
              "      <td>0.0</td>\n",
              "    </tr>\n",
              "    <tr>\n",
              "      <th>3897</th>\n",
              "      <td>0.0</td>\n",
              "      <td>0.0</td>\n",
              "      <td>0.0</td>\n",
              "      <td>0.0</td>\n",
              "      <td>0.0</td>\n",
              "      <td>0.0</td>\n",
              "      <td>0.0</td>\n",
              "      <td>0.0</td>\n",
              "      <td>0.0</td>\n",
              "      <td>0.0</td>\n",
              "      <td>...</td>\n",
              "      <td>0.0</td>\n",
              "      <td>0.0</td>\n",
              "      <td>0.0</td>\n",
              "      <td>0.0</td>\n",
              "      <td>0.0</td>\n",
              "      <td>0.0</td>\n",
              "      <td>0.0</td>\n",
              "      <td>0.0</td>\n",
              "      <td>0.0</td>\n",
              "      <td>0.0</td>\n",
              "    </tr>\n",
              "    <tr>\n",
              "      <th>3898</th>\n",
              "      <td>0.0</td>\n",
              "      <td>0.0</td>\n",
              "      <td>0.0</td>\n",
              "      <td>0.0</td>\n",
              "      <td>0.0</td>\n",
              "      <td>0.0</td>\n",
              "      <td>0.0</td>\n",
              "      <td>0.0</td>\n",
              "      <td>0.0</td>\n",
              "      <td>0.0</td>\n",
              "      <td>...</td>\n",
              "      <td>0.0</td>\n",
              "      <td>0.0</td>\n",
              "      <td>0.0</td>\n",
              "      <td>0.0</td>\n",
              "      <td>0.0</td>\n",
              "      <td>0.0</td>\n",
              "      <td>0.0</td>\n",
              "      <td>0.0</td>\n",
              "      <td>0.0</td>\n",
              "      <td>0.0</td>\n",
              "    </tr>\n",
              "    <tr>\n",
              "      <th>3899</th>\n",
              "      <td>0.0</td>\n",
              "      <td>0.0</td>\n",
              "      <td>0.0</td>\n",
              "      <td>0.0</td>\n",
              "      <td>0.0</td>\n",
              "      <td>0.0</td>\n",
              "      <td>0.0</td>\n",
              "      <td>0.0</td>\n",
              "      <td>0.0</td>\n",
              "      <td>0.0</td>\n",
              "      <td>...</td>\n",
              "      <td>0.0</td>\n",
              "      <td>0.0</td>\n",
              "      <td>0.0</td>\n",
              "      <td>0.0</td>\n",
              "      <td>0.0</td>\n",
              "      <td>0.0</td>\n",
              "      <td>0.0</td>\n",
              "      <td>0.0</td>\n",
              "      <td>0.0</td>\n",
              "      <td>0.0</td>\n",
              "    </tr>\n",
              "  </tbody>\n",
              "</table>\n",
              "<p>3900 rows × 643 columns</p>\n",
              "</div>"
            ],
            "text/plain": [
              "      08000839402  08000930705   10  100  1000  1000 cash   12  12hrs  150  \\\n",
              "0             0.0          0.0  0.0  0.0   0.0        0.0  0.0    0.0  0.0   \n",
              "1             0.0          0.0  0.0  0.0   0.0        0.0  0.0    0.0  0.0   \n",
              "2             0.0          0.0  0.0  0.0   0.0        0.0  0.0    0.0  0.0   \n",
              "3             0.0          0.0  0.0  0.0   0.0        0.0  0.0    0.0  0.0   \n",
              "4             0.0          0.0  0.0  0.0   0.0        0.0  0.0    0.0  0.0   \n",
              "...           ...          ...  ...  ...   ...        ...  ...    ...  ...   \n",
              "3895          0.0          0.0  0.0  0.0   0.0        0.0  0.0    0.0  0.0   \n",
              "3896          0.0          0.0  0.0  0.0   0.0        0.0  0.0    0.0  0.0   \n",
              "3897          0.0          0.0  0.0  0.0   0.0        0.0  0.0    0.0  0.0   \n",
              "3898          0.0          0.0  0.0  0.0   0.0        0.0  0.0    0.0  0.0   \n",
              "3899          0.0          0.0  0.0  0.0   0.0        0.0  0.0    0.0  0.0   \n",
              "\n",
              "      150p  ...  year  years  yes  yesterday   yo  youll  youre  youve   yr  \\\n",
              "0      0.0  ...   0.0    0.0  0.0        0.0  0.0    0.0    0.0    0.0  0.0   \n",
              "1      0.0  ...   0.0    0.0  0.0        0.0  0.0    0.0    0.0    0.0  0.0   \n",
              "2      0.0  ...   0.0    0.0  0.0        0.0  0.0    0.0    0.0    0.0  0.0   \n",
              "3      0.0  ...   0.0    0.0  0.0        0.0  0.0    0.0    0.0    0.0  0.0   \n",
              "4      0.0  ...   0.0    0.0  0.0        0.0  0.0    0.0    0.0    0.0  0.0   \n",
              "...    ...  ...   ...    ...  ...        ...  ...    ...    ...    ...  ...   \n",
              "3895   0.0  ...   0.0    0.0  0.0        0.0  0.0    0.0    0.0    0.0  0.0   \n",
              "3896   0.0  ...   0.0    0.0  0.0        0.0  0.0    0.0    0.0    0.0  0.0   \n",
              "3897   0.0  ...   0.0    0.0  0.0        0.0  0.0    0.0    0.0    0.0  0.0   \n",
              "3898   0.0  ...   0.0    0.0  0.0        0.0  0.0    0.0    0.0    0.0  0.0   \n",
              "3899   0.0  ...   0.0    0.0  0.0        0.0  0.0    0.0    0.0    0.0  0.0   \n",
              "\n",
              "      yup  \n",
              "0     0.0  \n",
              "1     0.0  \n",
              "2     0.0  \n",
              "3     0.0  \n",
              "4     0.0  \n",
              "...   ...  \n",
              "3895  0.0  \n",
              "3896  0.0  \n",
              "3897  0.0  \n",
              "3898  0.0  \n",
              "3899  0.0  \n",
              "\n",
              "[3900 rows x 643 columns]"
            ]
          },
          "execution_count": 263,
          "metadata": {},
          "output_type": "execute_result"
        }
      ],
      "source": [
        "# We will now do all the same things as before, but with n-grams\n",
        "X_train_Tfidf2 = vectorizer_Tfidf2.fit_transform(text_train)\n",
        "X_test_Tfidf2 = vectorizer_Tfidf2.transform(text_test)\n",
        "X_train_feature_list_Tfidf2 = vectorizer_Tfidf2.get_feature_names()\n",
        "df_vect_Tfidf2 = pd.DataFrame(data = X_train_Tfidf2.toarray(),columns = X_train_feature_list_Tfidf2)\n",
        "df_vect_Tfidf2"
      ]
    },
    {
      "cell_type": "code",
      "execution_count": null,
      "id": "c06f0eca-07a0-4868-a666-17ca947924f6",
      "metadata": {
        "id": "c06f0eca-07a0-4868-a666-17ca947924f6"
      },
      "outputs": [],
      "source": [
        "# Here we define the training model and fit it on the training data.\n",
        "DT_Tfidf2 = tree.DecisionTreeClassifier(random_state=0)\n",
        "DT_model_Tfidf2 = DT_Tfidf2.fit(X_train_Tfidf2, y_train)"
      ]
    },
    {
      "cell_type": "code",
      "execution_count": null,
      "id": "4373702b-b344-4f50-bd3b-e1d2edb355f9",
      "metadata": {
        "tags": [],
        "id": "4373702b-b344-4f50-bd3b-e1d2edb355f9"
      },
      "outputs": [],
      "source": [
        "#Make the model's predictions for the test data\n",
        "y_test_pred_Tfidf2 = DT_Tfidf2.predict(X_test_Tfidf2)"
      ]
    },
    {
      "cell_type": "code",
      "execution_count": null,
      "id": "9cf58fa2-b9f4-4c90-9639-18af0060fdeb",
      "metadata": {
        "id": "9cf58fa2-b9f4-4c90-9639-18af0060fdeb"
      },
      "outputs": [],
      "source": [
        "feature_importance_list_Tfidf2 = sorted(zip(DT_Tfidf.feature_importances_, X_train_feature_list_Tfidf), reverse=True)"
      ]
    },
    {
      "cell_type": "code",
      "execution_count": null,
      "id": "89a9c52c-9bec-4025-9b95-fe25f120b777",
      "metadata": {
        "id": "89a9c52c-9bec-4025-9b95-fe25f120b777"
      },
      "outputs": [],
      "source": [
        "feature_imp_Tfidf2 = pd.Series(DT_Tfidf2.feature_importances_, index = X_train_feature_list_Tfidf2).sort_values(ascending=False)\n",
        "\n",
        "top_feature_Tfidf2 = feature_imp_Tfidf2.take([0,1,2,3,4,5,6,7,8,9,10])\n",
        "worst_features_Tfidf2 = feature_imp_Tfidf2.take([-10,-9,-8,-7,-6,-5,-4,-3,-2,-1])"
      ]
    },
    {
      "cell_type": "code",
      "execution_count": null,
      "id": "02e20745-4943-4df0-bbf0-a96553a78621",
      "metadata": {
        "id": "02e20745-4943-4df0-bbf0-a96553a78621",
        "outputId": "ff5eb363-70ba-49be-edde-71f7876f0051"
      },
      "outputs": [
        {
          "data": {
            "image/png": "[encoded data removed]",
            "text/plain": [
              "<Figure size 432x288 with 1 Axes>"
            ]
          },
          "metadata": {
            "needs_background": "light"
          },
          "output_type": "display_data"
        }
      ],
      "source": [
        "sns.barplot(x=top_feature_Tfidf2, y=top_feature_Tfidf2.index )\n",
        "\n",
        "# labels for the graph\n",
        "plt.xlabel('Feature Importance Score')\n",
        "plt.ylabel('Features')\n",
        "plt.title(\"Visualizing Important Features\")\n",
        "plt.show()"
      ]
    },
    {
      "cell_type": "code",
      "execution_count": null,
      "id": "fbeeb226-e470-4b98-b545-9187d01cfee3",
      "metadata": {
        "id": "fbeeb226-e470-4b98-b545-9187d01cfee3",
        "outputId": "4a4a6412-b7ec-4254-bc00-c4ba88b3d141"
      },
      "outputs": [
        {
          "data": {
            "image/png": "[encoded data removed]",
            "text/plain": [
              "<Figure size 432x288 with 1 Axes>"
            ]
          },
          "metadata": {
            "needs_background": "light"
          },
          "output_type": "display_data"
        }
      ],
      "source": [
        "sns.barplot(x=worst_features_Tfidf2, y=worst_features_Tfidf2.index )\n",
        "\n",
        "# Add labels to your graph\n",
        "plt.xlabel('Feature Importance Score')\n",
        "plt.ylabel('Features')\n",
        "plt.title(\"Visualizing Less Important Features\")\n",
        "plt.show()"
      ]
    },
    {
      "cell_type": "code",
      "execution_count": null,
      "id": "d60357b4-4609-46e5-bfb5-4393481b60e9",
      "metadata": {
        "id": "d60357b4-4609-46e5-bfb5-4393481b60e9",
        "outputId": "25df495f-8dbb-491b-86dc-76073aa7013b"
      },
      "outputs": [
        {
          "name": "stdout",
          "output_type": "stream",
          "text": [
            "              precision    recall  f1-score   support\n",
            "\n",
            "           0       0.97      0.98      0.98      1448\n",
            "           1       0.88      0.83      0.86       224\n",
            "\n",
            "    accuracy                           0.96      1672\n",
            "   macro avg       0.93      0.91      0.92      1672\n",
            "weighted avg       0.96      0.96      0.96      1672\n",
            "\n"
          ]
        }
      ],
      "source": [
        "# 2-grams seem to be a slight improvement over 1-grams in the minority class,\n",
        "#and have not changed any of the scores in the majority class\n",
        "print(classification_report(y_test, y_test_pred_Tfidf2))"
      ]
    },
    {
      "cell_type": "code",
      "execution_count": null,
      "id": "7e385d45-17b0-472e-a0f6-02b80a9dc061",
      "metadata": {
        "id": "7e385d45-17b0-472e-a0f6-02b80a9dc061",
        "outputId": "f729c7f0-3c0d-4756-8354-c86de25f5fe5"
      },
      "outputs": [
        {
          "data": {
            "text/plain": [
              "<function matplotlib.pyplot.show(close=None, block=None)>"
            ]
          },
          "execution_count": 271,
          "metadata": {},
          "output_type": "execute_result"
        },
        {
          "data": {
            "image/png": "[encoded data removed]",
            "text/plain": [
              "<Figure size 432x288 with 2 Axes>"
            ]
          },
          "metadata": {
            "needs_background": "light"
          },
          "output_type": "display_data"
        }
      ],
      "source": [
        "# We create and display the confusion matrix\n",
        "cf_matrix_Tfidf2 = confusion_matrix(y_test, y_test_pred_Tfidf2)\n",
        "\n",
        "sns.heatmap(cf_matrix_Tfidf2, annot=True, fmt='d', cmap='Blues')\n",
        "plt.xlabel('Predicted')\n",
        "plt.ylabel('True')\n",
        "plt.show"
      ]
    },
    {
      "cell_type": "code",
      "execution_count": null,
      "id": "9bca8744-e9ca-4794-aa0b-ce2da850a79f",
      "metadata": {
        "id": "9bca8744-e9ca-4794-aa0b-ce2da850a79f",
        "outputId": "dab2cb97-fac6-4c07-dcd1-844d2d80b35c"
      },
      "outputs": [
        {
          "name": "stdout",
          "output_type": "stream",
          "text": [
            "sent      hope        1.833644e-17\n",
            "hope      sent        1.833644e-17\n",
            "really    did         1.827631e-05\n",
            "did       really      1.827631e-05\n",
            "lor       ready       2.180904e-05\n",
            "                          ...     \n",
            "princess  princess    1.000000e+00\n",
            "price     price       1.000000e+00\n",
            "pretty    pretty      1.000000e+00\n",
            "really    really      1.000000e+00\n",
            "yup       yup         1.000000e+00\n",
            "Length: 349281, dtype: float64\n"
          ]
        }
      ],
      "source": [
        "c_Tfidf2 = df_vect_Tfidf2.corr().abs()\n",
        "s_Tfidf2 = c_Tfidf2.unstack()\n",
        "so_Tfidf2 = s.sort_values(kind=\"quicksort\")\n",
        "print(so)"
      ]
    },
    {
      "cell_type": "code",
      "execution_count": null,
      "id": "7d3657c5-3918-42dc-94bd-827018b69420",
      "metadata": {
        "id": "7d3657c5-3918-42dc-94bd-827018b69420"
      },
      "outputs": [],
      "source": [
        "sns.heatmap(data=c_Tfidf2, cmap='Reds')"
      ]
    }
  ],
  "metadata": {
    "kernelspec": {
      "display_name": "Python 3 (ipykernel)",
      "language": "python",
      "name": "python3"
    },
    "language_info": {
      "codemirror_mode": {
        "name": "ipython",
        "version": 3
      },
      "file_extension": ".py",
      "mimetype": "text/x-python",
      "name": "python",
      "nbconvert_exporter": "python",
      "pygments_lexer": "ipython3",
      "version": "3.9.7"
    },
    "colab": {
      "name": "Sibley text data (spam filter) analysis.ipynb",
      "provenance": [],
      "include_colab_link": true
    }
  },
  "nbformat": 4,
  "nbformat_minor": 5
}